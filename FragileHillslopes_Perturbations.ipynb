{
 "cells": [
  {
   "cell_type": "markdown",
   "metadata": {},
   "source": [
    "Preamble"
   ]
  },
  {
   "cell_type": "code",
   "execution_count": 1,
   "metadata": {},
   "outputs": [],
   "source": [
    "import os\n",
    "from PIL import Image\n",
    "import pandas as pd\n",
    "import matplotlib.pyplot as plt\n",
    "import numpy as np\n",
    "import math\n",
    "import numpy.ma as ma\n",
    "\n",
    "\n",
    "from mpl_toolkits.axes_grid1 import make_axes_locatable #for subplot colorbars\n",
    "from matplotlib.pyplot import cm\n",
    "\n",
    "\n",
    "# configure plotting\n",
    "%config InlineBackend.rc = {'figure.dpi': 300, 'savefig.dpi': 300, \\\n",
    "                            'figure.figsize': (6, 6 / 1.6), 'font.size': 8, \\\n",
    "                            'figure.facecolor': (1, 1, 1, 0),'font.sans-serif':'Latin Modern Math'}\n",
    "\n",
    "from matplotlib import rc\n",
    "plt.rc('text', usetex=True)\n",
    "plt.rc('font', family='serif')\n",
    "\n",
    "%matplotlib inline"
   ]
  },
  {
   "cell_type": "markdown",
   "metadata": {},
   "source": [
    "# Calculating the G, the normalized correlation function"
   ]
  },
  {
   "cell_type": "code",
   "execution_count": 2,
   "metadata": {},
   "outputs": [],
   "source": [
    "def Calculate_G(image_names, start, time, lags):\n",
    "    \"this function takes image names, a sequence of time and a desired amount of lags\"\n",
    "    \"and calculates G, mean quantities, maps\"\n",
    "\n",
    "    def calculate_G(metapixels_a, metapixels_b):\n",
    "        \"this function calculates the value of the normalized correlation\"\n",
    "        \"function between metapixels\"\n",
    "        a = np.nanmean((metapixels_a * metapixels_b), axis=(2, 3))\n",
    "        b = np.nanmean(metapixels_a, axis=(2, 3))\n",
    "        c = np.nanmean(metapixels_b, axis=(2, 3))\n",
    "        d = np.nanstd(metapixels_a, axis=(2, 3))\n",
    "        e = np.nanstd(metapixels_b, axis=(2, 3))\n",
    "\n",
    "        G = (a - (b * c)) / (d * e)\n",
    "        return G\n",
    "\n",
    "    def wholefield_stats(spatial_map, mask):\n",
    "        map_mean = []\n",
    "        map_var = []\n",
    "        for i in range(len(spatial_map)):\n",
    "            masked_map = ma.masked_array(spatial_map[i], mask=mask)\n",
    "            map_mean.append(np.nanmean(masked_map))\n",
    "            map_var.append(np.nanvar(masked_map))\n",
    "        map_mean = np.asarray(map_mean)\n",
    "        map_var = np.asarray(map_var)\n",
    "        return map_mean  #, map_var\n",
    "##################################################################################################################\n",
    "\n",
    "#this variable is a list which contains each timestep\n",
    "\n",
    "    G_time_lags = [[] for _ in range(len(time))]\n",
    "    sandpile_mean = [[] for _ in range(len(time))]\n",
    "    sandpile_var = [[] for _ in range(len(time))]\n",
    "\n",
    "    i = 0\n",
    "\n",
    "    # this is the size of the metapixels, defined outside of the loop\n",
    "    size = 10\n",
    "\n",
    "    for t in time:\n",
    "        #this is just to make t an interger rather than a float so that t can be used as a list index\n",
    "        t = int(t)\n",
    "\n",
    "        #the index of each image (i.e. the frame number) is the iterator t plus 11, the time where grains first\n",
    "        #enter the frame\n",
    "        speckle_a = Image.open(image_names[t + start])\n",
    "        speckle_a = np.asarray(speckle_a)[y_min:y_max, x_min:x_max]\n",
    "\n",
    "        lenr, lenc = int(speckle_a.shape[0] / size), int(speckle_a.shape[1] /\n",
    "                                                         size)\n",
    "        metapixels_a = speckle_a.reshape(lenr, size, lenc,\n",
    "                                         size).transpose(0, 2, 1, 3)\n",
    "\n",
    "        mp_a_mean = np.nanmean(metapixels_a, axis=(2, 3))\n",
    "        metapixels_a = np.subtract(metapixels_a,\n",
    "                                   mp_a_mean[..., np.newaxis, np.newaxis])\n",
    "\n",
    "##################################################################################################################\n",
    "        l = 0\n",
    "        G_lags = [[] for _ in range(lags)]\n",
    "\n",
    "        # this loop is for each lag\n",
    "        for lag in range(lags):\n",
    "\n",
    "            # choosing two speckle images\n",
    "            speckle_b = Image.open(image_names[lag + t + start])\n",
    "            speckle_b = np.asarray(speckle_b)[y_min:y_max, x_min:x_max]\n",
    "\n",
    "            metapixels_b = speckle_b.reshape(lenr, size, lenc,\n",
    "                                             size).transpose(0, 2, 1, 3)\n",
    "            mp_b_mean = np.nanmean(metapixels_b, axis=(2, 3))\n",
    "            metapixels_b = np.subtract(metapixels_b,\n",
    "                                       mp_b_mean[..., np.newaxis, np.newaxis])\n",
    "\n",
    "            G_lags[l] = (calculate_G(metapixels_a, metapixels_b))\n",
    "            \n",
    "            l += 1\n",
    "        #this is a new piece to ensure that any correlation values < 0 are set to 0. \n",
    "        #(negative correlations are unphysical)\n",
    "#         G_lags[G_lags <= 0] = 0\n",
    "##################################################################################################################\n",
    "        G_time_lags[i] = G_lags\n",
    "        sandpile_mean[i] = wholefield_stats(G_time_lags[i], mask=~binary)\n",
    "\n",
    "        i += 1\n",
    "        print(t+start)\n",
    "\n",
    "    return G_time_lags, sandpile_mean"
   ]
  },
  {
   "cell_type": "markdown",
   "metadata": {},
   "source": [
    "# Tapping"
   ]
  },
  {
   "cell_type": "code",
   "execution_count": null,
   "metadata": {},
   "outputs": [],
   "source": [
    "os.chdir('/media/nakul/Backup Plus/Data/DWS_RawExperimentPhotos/feb_13_tapping/long_tapping')"
   ]
  },
  {
   "cell_type": "code",
   "execution_count": null,
   "metadata": {},
   "outputs": [],
   "source": [
    "import glob\n",
    "import natsort\n",
    "\n",
    "image_names = []\n",
    "\n",
    "for name in glob.glob('img_*.jpg'):\n",
    "    image_names.append(name)\n",
    "\n",
    "image_names = natsort.natsorted(image_names,reverse=False)\n",
    "timestep = len(image_names)"
   ]
  },
  {
   "cell_type": "markdown",
   "metadata": {},
   "source": [
    "## Creating masks"
   ]
  },
  {
   "cell_type": "code",
   "execution_count": null,
   "metadata": {},
   "outputs": [],
   "source": [
    "#specify the bounds of the image - should be evenly divisible by the metapixel size\n",
    "x_min = 0\n",
    "x_max = 1900\n",
    "y_min = 0\n",
    "y_max = 1400\n",
    "\n",
    "# choosing two speckle images\n",
    "speckle_a = Image.open(image_names[50])\n",
    "speckle_a = np.asarray(speckle_a)[y_min:y_max,x_min:x_max]\n",
    "\n",
    "speckle_b = Image.open(image_names[60])\n",
    "speckle_b = np.asarray(speckle_b)[y_min:y_max,x_min:x_max]\n",
    "    \n",
    "# partitioning images into metpixels\n",
    "size = 10\n",
    "a = speckle_a\n",
    "lenr, lenc = int(a.shape[0]/size), int(a.shape[1]/size)\n",
    "## 'flattening' the metapixel array along a single axis\n",
    "metapixels_a = speckle_a.reshape(lenr,size,lenc,size).transpose(0, 2, 1, 3)\n",
    "\n",
    "b = speckle_b\n",
    "lenr, lenc = int(b.shape[0]/size), int(b.shape[1]/size)\n",
    "metapixels_b = speckle_b.reshape(lenr,size,lenc,size).transpose(0, 2, 1, 3)\n",
    "    \n",
    "metapixel_grid_rows = metapixels_a.shape[0]\n",
    "metapixel_grid_columns = metapixels_a.shape[1]\n",
    "metapixel_grid_area = metapixel_grid_rows*metapixel_grid_columns"
   ]
  },
  {
   "cell_type": "code",
   "execution_count": null,
   "metadata": {},
   "outputs": [],
   "source": [
    "mp_a_mean = np.mean(metapixels_a,axis = (2,3))\n",
    "mp_b_mean = np.mean(metapixels_b,axis = (2,3))\n",
    "\n",
    "## Adding [...,np.newaxis,np.newaxis] allows the array of means to be subtracted\n",
    "## from the array containing metapixels. otherwise, their shapes are not the same\n",
    "metapixels_a = np.subtract(metapixels_a,mp_a_mean[..., np.newaxis,np.newaxis])\n",
    "metapixels_b = np.subtract(metapixels_b,mp_b_mean[..., np.newaxis,np.newaxis])"
   ]
  },
  {
   "cell_type": "code",
   "execution_count": null,
   "metadata": {},
   "outputs": [],
   "source": [
    "from skimage.filters import try_all_threshold\n",
    "\n",
    "img = mp_a_mean\n",
    "\n",
    "# Here, we specify a radius for local thresholding algorithms.\n",
    "# If it is not specified, only global algorithms are called.\n",
    "fig, ax = try_all_threshold(img, figsize=(10, 8), verbose=False)\n",
    "plt.show()"
   ]
  },
  {
   "cell_type": "code",
   "execution_count": null,
   "metadata": {},
   "outputs": [],
   "source": [
    "from skimage.filters import threshold_minimum\n",
    "image = mp_a_mean\n",
    "thresh = threshold_minimum(image)\n",
    "binary = image > thresh\n",
    "mask_tapping = ~binary\n",
    "\n",
    "fig, axes = plt.subplots(ncols=3, figsize=(8, 2.5))\n",
    "ax = axes.ravel()\n",
    "ax[0] = plt.subplot(1, 3, 1)\n",
    "ax[1] = plt.subplot(1, 3, 2)\n",
    "ax[2] = plt.subplot(1, 3, 3, sharex=ax[0], sharey=ax[0])\n",
    "\n",
    "ax[0].imshow(image, cmap=plt.cm.gray)\n",
    "ax[0].set_title('Original')\n",
    "ax[0].axis('off')\n",
    "\n",
    "ax[1].hist(image.ravel(), bins=256)\n",
    "ax[1].set_title('Histogram')\n",
    "ax[1].axvline(thresh, color='r')\n",
    "\n",
    "ax[2].imshow(binary, cmap=plt.cm.gray)\n",
    "ax[2].set_title('Thresholded')\n",
    "ax[2].axis('off')\n",
    "\n",
    "plt.show()"
   ]
  },
  {
   "cell_type": "markdown",
   "metadata": {},
   "source": [
    "## Calculating G"
   ]
  },
  {
   "cell_type": "code",
   "execution_count": null,
   "metadata": {},
   "outputs": [],
   "source": [
    "# time = np.logspace(1, 13, num=13, base=2)\n",
    "time = (0,1000,2000,3000,4000)\n",
    "# time = np.arange (0,1000,10)\n",
    "\n",
    "correlation_tapping, means_tapping = Calculate_G(image_names,0,time,1000)"
   ]
  },
  {
   "cell_type": "code",
   "execution_count": null,
   "metadata": {},
   "outputs": [],
   "source": [
    "#this saves G for 10 cycles of tapping at a single lag\n",
    "np.savez('tapping_feb_13_longtimecorrelations',data1 = correlation_tapping, data2 =  means_tapping)"
   ]
  },
  {
   "cell_type": "markdown",
   "metadata": {},
   "source": [
    "## Loading data"
   ]
  },
  {
   "cell_type": "code",
   "execution_count": null,
   "metadata": {},
   "outputs": [],
   "source": [
    "os.chdir('/media/nakul/Backup Plus/Data/DWS_Correlation_Outputs/outputs/2020/feb/old_outputs')"
   ]
  },
  {
   "cell_type": "code",
   "execution_count": null,
   "metadata": {},
   "outputs": [],
   "source": [
    "tapping = np.load('tapping_feb_13.npz')\n",
    "correlation_tapping = tapping['data1']\n",
    "means_tapping = tapping['data2']"
   ]
  },
  {
   "cell_type": "markdown",
   "metadata": {},
   "source": [
    "## 2d maps"
   ]
  },
  {
   "cell_type": "code",
   "execution_count": null,
   "metadata": {},
   "outputs": [],
   "source": [
    "l = 3.3 * 100000\n",
    "c = ((8*np.pi)*(np.sqrt(2/5))*l)/633"
   ]
  },
  {
   "cell_type": "code",
   "execution_count": null,
   "metadata": {},
   "outputs": [],
   "source": [
    "from mpl_toolkits.axes_grid1 import make_axes_locatable\n",
    "\n",
    "l = 3.3 * 100000\n",
    "c = ((8*np.pi)*(np.sqrt(2/5))*l)/633\n",
    "\n",
    "# fig = plt.figure(figsize=(7, 3))\n",
    "\n",
    "ax1 = plt.subplot(2, 2, 1)\n",
    "ax2 = plt.subplot(2, 2, 2)\n",
    "ax3 = plt.subplot(2, 2, 3)\n",
    "ax4 = plt.subplot(2, 2, 4)\n",
    "#################################################################################################################\n",
    "frame = correlation_tapping[5][1]\n",
    "frame[frame <= 0] = 1e-32\n",
    "masked_map = ma.masked_array(frame, mask=mask_tapping)\n",
    "masked_map = -(np.log(masked_map)/c) \n",
    "\n",
    "im1 = ax1.imshow(masked_map,vmin = 1e-7,vmax = 1e-5,cmap = 'gray_r')\n",
    "\n",
    "cmap = plt.cm.gray\n",
    "cmap.set_bad('white',1.)\n",
    "\n",
    "# divider = make_axes_locatable(ax1)\n",
    "# cax = divider.append_axes('right', size='5%', pad=0.05)\n",
    "# fig.colorbar(im1, cax=cax, orientation='vertical',format='%.0e')\n",
    "# # cax.tick_params(labelsize=15) \n",
    "# cax.set_title('$\\epsilon$',fontsize = 10)\n",
    "ax1.annotate('5 taps', xy=(5, 5), xytext=(120, 20),fontsize = 8)\n",
    "# ax1.set_title('t = 4 s')#,fontsize = 20);\n",
    "# ax1.set_xlim([30,175]);\n",
    "ax1.set_xticks([]);\n",
    "ax1.set_yticks([]);\n",
    "#################################################################################################################\n",
    "frame = correlation_tapping[200][1]\n",
    "frame[frame <= 0] = 1e-32\n",
    "masked_map = ma.masked_array(frame, mask=mask_tapping)\n",
    "masked_map = -(np.log(masked_map)/c) \n",
    "\n",
    "im2 = ax2.imshow(masked_map,vmin = 1e-7,vmax = 1e-5,cmap = 'gray_r')\n",
    "\n",
    "cmap = plt.cm.gray\n",
    "cmap.set_bad('white',1.)\n",
    "\n",
    "# divider = make_axes_locatable(ax2)\n",
    "# cax = divider.append_axes('right', size='5%', pad=0.05)\n",
    "# fig.colorbar(im2, cax=cax, orientation='vertical',format='%.0e')\n",
    "# # cax.tick_params(labelsize=15) \n",
    "# cax.set_title('$\\epsilon$',fontsize = 10)\n",
    "ax2.annotate('200 taps', xy=(5, 5), xytext=(120, 20),fontsize = 8)\n",
    "\n",
    "# ax2.set_title('t = 64 s')#,fontsize = 20);\n",
    "ax2.set_xticks([]);\n",
    "ax2.set_yticks([]);\n",
    "#################################################################################################################\n",
    "frame = correlation_tapping[600][1]\n",
    "frame[frame <= 0] = 1e-32\n",
    "masked_map = ma.masked_array(frame, mask=mask_tapping)\n",
    "masked_map = -(np.log(masked_map)/c) \n",
    "\n",
    "im3 = ax3.imshow(masked_map,vmin = 1e-7,vmax = 1e-5,cmap = 'gray_r')\n",
    "\n",
    "cmap = plt.cm.gray_r\n",
    "cmap.set_bad('white',1.)\n",
    "\n",
    "# divider = make_axes_locatable(ax3)\n",
    "# cax = divider.append_axes('right', size='5%', pad=0.05)\n",
    "# fig.colorbar(im3, cax=cax, orientation='vertical',format='%.0e')\n",
    "# # cax.tick_params(labelsize=15) \n",
    "# cax.set_title('$\\epsilon$',fontsize = 10)\n",
    "ax3.annotate('600 taps', xy=(5, 5), xytext=(120, 20),fontsize = 8)\n",
    "\n",
    "# ax3.set_title('t = 256 s')#,fontsize = 20);\n",
    "# ax1.set_xlim([30,175]);\n",
    "ax3.set_xticks([]);\n",
    "ax3.set_yticks([]);\n",
    "#################################################################################################################\n",
    "frame = correlation_tapping[4000][1]\n",
    "frame[frame <= 0] = 1e-32\n",
    "masked_map = ma.masked_array(frame, mask=mask_tapping)\n",
    "masked_map = -(np.log(masked_map)/c) \n",
    "\n",
    "im4 = ax4.imshow(masked_map,vmin = 1e-7,vmax = 1e-5,cmap = 'gray_r')\n",
    "cmap = plt.cm.gray\n",
    "cmap.set_bad('white',1.)\n",
    "\n",
    "divider = make_axes_locatable(ax4)\n",
    "cax = divider.append_axes('right', size='3%', pad=0.05)\n",
    "fig.colorbar(im4, cax=cax,format='%.0e',ticks = [1e-7,5e-6,1e-5])\n",
    "# cax.tick_params(labelsize=15) \n",
    "cax.set_title('$\\epsilon$',fontsize = 10)\n",
    "\n",
    "ax4.annotate('4000 taps', xy=(5, 5), xytext=(120, 20),fontsize = 8)\n",
    "\n",
    "# ax4.set_title('t = 8192 s')#,fontsize = 20);\n",
    "ax4.set_xticks([]);\n",
    "ax4.set_yticks([]);\n",
    "\n",
    "plt.subplots_adjust(hspace=.1, wspace=.1, bottom=2, left=.1, top=3)\n",
    "\n",
    "# # fit subplots and save fig\n",
    "# fig.set_size_inches(w=7,h=3)\n",
    "fig.tight_layout()\n",
    "fig_name = 'tapping_panels.png'\n",
    "plt.savefig(fig_name, bbox_inches='tight')"
   ]
  },
  {
   "cell_type": "code",
   "execution_count": null,
   "metadata": {},
   "outputs": [],
   "source": [
    "from mpl_toolkits.axes_grid1 import make_axes_locatable\n",
    "\n",
    "l = 3.3 * 100000\n",
    "c = ((8*np.pi)*(np.sqrt(2/5))*l)/633\n",
    "\n",
    "\n",
    "fig = plt.figure(figsize=(7, 3))\n",
    "\n",
    "ax1 = plt.subplot(1, 2, 1)\n",
    "ax2 = plt.subplot(1, 2, 2)\n",
    "\n",
    "\n",
    "#################################################################################################################\n",
    "frame = correlation_tapping[100][1]\n",
    "frame[frame <= 0] = 0.1\n",
    "masked_map = ma.masked_array(frame, mask=mask_tapping)\n",
    "masked_map = -(np.log(masked_map)/c) \n",
    "\n",
    "im1 = ax1.imshow(masked_map,vmin = 1e-7,vmax = 1e-5,cmap = 'gray_r')\n",
    "\n",
    "cmap = plt.cm.gray\n",
    "cmap.set_bad('white',1.)\n",
    "\n",
    "# divider = make_axes_locatable(ax1)\n",
    "# cax = divider.append_axes('right', size='5%', pad=0.05)\n",
    "# fig.colorbar(im1, cax=cax, orientation='vertical',format='%.0e')\n",
    "# # cax.tick_params(labelsize=15) \n",
    "# cax.set_title('$\\epsilon$',fontsize = 10)\n",
    "ax1.annotate('100 taps', xy=(5, 5), xytext=(120, 20),fontsize = 12)\n",
    "# ax1.set_title('t = 4 s')#,fontsize = 20);\n",
    "# ax1.set_xlim([30,175]);\n",
    "ax1.set_xticks([]);\n",
    "ax1.set_yticks([]);\n",
    "#################################################################################################################\n",
    "frame = correlation_tapping[4000][1]\n",
    "frame[frame <= 0] = 0.1\n",
    "masked_map = ma.masked_array(frame, mask=mask_tapping)\n",
    "masked_map = -(np.log(masked_map)/c) \n",
    "\n",
    "im2 = ax2.imshow(masked_map,vmin = 1e-7,vmax = 1e-5,cmap = 'gray_r')\n",
    "\n",
    "cmap = plt.cm.gray\n",
    "cmap.set_bad('grey',1.)\n",
    "\n",
    "divider = make_axes_locatable(ax2)\n",
    "cax = divider.append_axes('right', size='5%', pad=0.05)\n",
    "fig.colorbar(im2, cax=cax, orientation='vertical',format='%.0e')\n",
    "# cax.tick_params(labelsize=15) \n",
    "cax.set_title(r'$\\langle  \\dot{\\epsilon} \\rangle$',fontsize = 10)\n",
    "ax2.annotate('4000 taps', xy=(5, 5), xytext=(120, 20),fontsize = 12)\n",
    "\n",
    "(r'$ \\langle G \\rangle$')\n",
    "\n",
    "# ax2.set_title('t = 64 s')#,fontsize = 20);\n",
    "ax2.set_xticks([]);\n",
    "ax2.set_yticks([]);\n",
    "\n",
    "plt.subplots_adjust(hspace=.1, wspace=.1, bottom=2, left=.1, top=3)\n",
    "\n",
    "# # fit subplots and save fig\n",
    "# fig.set_size_inches(w=7,h=3)\n",
    "fig.tight_layout()\n",
    "# fig_name = '/home/nakul/Documents/Python Scripts/DWS_Speckle_Analysis/iPython_notebooks/tapping_panels.png'\n",
    "plt.savefig(fig_name, bbox_inches='tight')"
   ]
  },
  {
   "cell_type": "code",
   "execution_count": null,
   "metadata": {},
   "outputs": [],
   "source": [
    "from mpl_toolkits.axes_grid1 import make_axes_locatable\n",
    "\n",
    "fig = plt.figure(figsize=(3, 3))\n",
    "ax1 = plt.subplot(1, 1, 1)\n",
    "# ax2 = plt.subplot(1, 2, 2)\n",
    "\n",
    "a = correlation_tapping[5000][1]\n",
    "a[a <= 0] = 0\n",
    "\n",
    "masked_map = ma.masked_array(a, mask=mask_tapping)\n",
    "\n",
    "masked_map = -(np.log(masked_map)/c) \n",
    "\n",
    "im1 = ax1.imshow(masked_map,vmin = 1e-7,vmax = 1e-5,cmap = 'inferno')\n",
    "\n",
    "cmap = plt.cm.gray_r\n",
    "cmap.set_bad('white',1.)\n",
    "\n",
    "divider = make_axes_locatable(ax1)\n",
    "cax = divider.append_axes('right', size='5%', pad=0.05)\n",
    "fig.colorbar(im1, cax=cax,format='%.0e', orientation='vertical')\n",
    "# cax.tick_params(labelsize=15) \n",
    "cax.set_title('$\\epsilon$',fontsize = 10)\n",
    "\n",
    "ax1.set_xticks([]);\n",
    "ax1.set_yticks([]);\n",
    "\n",
    "# plt.savefig('tapping_t_4000', bbox_inches='tight')"
   ]
  },
  {
   "cell_type": "markdown",
   "metadata": {},
   "source": [
    "## Time Series"
   ]
  },
  {
   "cell_type": "code",
   "execution_count": null,
   "metadata": {},
   "outputs": [],
   "source": [
    "x = tap_def\n",
    "N = 100\n",
    "smoothed_taps = np.convolve(x, np.ones((N,))/N, mode='valid')\n",
    "\n",
    "plt.plot(tap_def[10:5010],alpha = 0.3)\n",
    "plt.plot(smoothed_taps[10:5010],'-k')\n",
    "# plt.yscale('log')"
   ]
  },
  {
   "cell_type": "code",
   "execution_count": null,
   "metadata": {},
   "outputs": [],
   "source": [
    "test = []\n",
    "for i in range(len(means_tapping)):\n",
    "    test.append(means_tapping[i][1])\n",
    "    \n",
    "fig = plt.figure(figsize=(8,4))\n",
    "\n",
    "tap_def = -(np.log(test)/c) \n",
    "plt.plot(tap_def[10:5010],alpha =1)\n",
    "plt.plot(smoothed_taps[10:5010],'r-')\n",
    "plt.xlabel('tap number')\n",
    "plt.ticklabel_format(axis='y', style='sci', scilimits=(0,0))\n",
    "plt.ylabel(r'$ \\langle \\dot{\\epsilon} \\rangle$')\n",
    "\n",
    "\n",
    "# plt.yscale('log')\n",
    "# plt.xscale('log')\n",
    "\n",
    "plt.ylim([0,1.5e-5])\n",
    "\n",
    "\n",
    "\n",
    "\n",
    "# plt.savefig('/home/nakul/Documents/Python Scripts/DWS_Speckle_Analysis/iPython_notebooks/tapping_timeseries.png', bbox_inches='tight')"
   ]
  },
  {
   "cell_type": "markdown",
   "metadata": {},
   "source": [
    "## Combined map and time series"
   ]
  },
  {
   "cell_type": "code",
   "execution_count": null,
   "metadata": {
    "scrolled": false
   },
   "outputs": [],
   "source": [
    "import matplotlib.ticker as ticker\n",
    "\n",
    "fig = plt.figure(figsize=(3.5,2.5))\n",
    "\n",
    "def fmt(x, pos):\n",
    "    a, b = '{:.1e}'.format(x).split('e')\n",
    "    b = int(b)\n",
    "    return r'${} \\times 10^{{{}}}$'.format(a, b)\n",
    "\n",
    "\n",
    "#################################################################################################################\n",
    "ax1 = plt.subplot2grid((2,2), (0, 0), colspan=1,rowspan = 1)\n",
    "frame = correlation_tapping[100][1]\n",
    "frame[frame <= 0] = 0.1\n",
    "masked_map = ma.masked_array(frame, mask=mask_tapping)\n",
    "masked_map = -(np.log(masked_map)/c) \n",
    "\n",
    "im1 = ax1.imshow(masked_map,vmin = 1e-7,vmax = 1e-5,cmap = 'gray_r')\n",
    "\n",
    "cmap = plt.cm.gray\n",
    "cmap.set_bad('white',1.)\n",
    "\n",
    "ax1.set_title('100 taps')\n",
    "\n",
    "\n",
    "ax1.set_xticks([]);\n",
    "ax1.set_yticks([]);\n",
    "#################################################################################################################\n",
    "ax2 = plt.subplot2grid((2,2), (0, 1), colspan=1,rowspan = 1)\n",
    "\n",
    "frame = correlation_tapping[4000][1]\n",
    "frame[frame <= 0] = 0.1\n",
    "masked_map = ma.masked_array(frame, mask=mask_tapping)\n",
    "masked_map = -(np.log(masked_map)/c) \n",
    "\n",
    "im2 = ax2.imshow(masked_map,vmin = 1e-7,vmax = 1e-5,cmap = 'gray_r')\n",
    "\n",
    "cmap = plt.cm.gray\n",
    "cmap.set_bad('grey',1.)\n",
    "\n",
    "divider = make_axes_locatable(ax2)\n",
    "cax = divider.append_axes('right', size='5%', pad=0.05)\n",
    "fig.colorbar(im2, cax=cax, orientation='vertical',format=ticker.FuncFormatter(fmt))\n",
    "cax.set_title(r'$\\dot{\\epsilon}$  [$s^{-1}$]',fontsize = 10)\n",
    "ax2.set_title('4000 taps')\n",
    "cax.locator_params(nbins=3)\n",
    "# cax.set_ticks([1e-7,1e-5])\n",
    "# cax.set_ticklabels([1e-7,1e-5])\n",
    "\n",
    "\n",
    "ax2.set_xticks([]);\n",
    "ax2.set_yticks([]);\n",
    "\n",
    "#################################################################################################################\n",
    "ax3 = plt.subplot2grid((2,2), (1, 0), colspan=2,rowspan = 2)\n",
    "\n",
    "ax3.plot(tap_def[10:5010],alpha = 0.5)\n",
    "ax3.plot(smoothed_taps[10:5010],'-k')\n",
    "ax3.ticklabel_format(axis='y', style='sci', scilimits=(0,0))\n",
    "ax3.set_ylabel(r'$ \\langle \\dot{\\epsilon} \\rangle$ [$s^{-1}$]')#,rotation = 'horizontal')\n",
    "# ax3.yaxis.set_label_coords(1.06,1.01)\n",
    "\n",
    "ax3.yaxis.set_label_position(\"right\")\n",
    "ax3.set_xlabel('tap number')\n",
    "ax3.yaxis.tick_right()\n",
    "\n",
    "\n",
    "\n",
    "#################################################################################################################\n",
    "\n",
    "# plt.subplots_adjust(hspace=.1, wspace=.1, bottom=.01, left=.1, top=3)\n",
    "\n",
    "# # fit subplots and save fig\n",
    "# fig.set_size_inches(w=7,h=3)\n",
    "# fig.tight_layout()\n",
    "\n",
    "# fig_name = '/home/nakul/Documents/Python Scripts/DWS_Speckle_Analysis/iPython_notebooks/tapping_panels.pdf'\n",
    "plt.savefig(fig_name, bbox_inches='tight')"
   ]
  },
  {
   "cell_type": "markdown",
   "metadata": {},
   "source": [
    "## Profiles"
   ]
  },
  {
   "cell_type": "markdown",
   "metadata": {},
   "source": [
    "### Rotating images"
   ]
  },
  {
   "cell_type": "code",
   "execution_count": null,
   "metadata": {},
   "outputs": [],
   "source": [
    "from skimage import transform\n",
    "\n",
    "a = correlation_tapping[3000][1]\n",
    "a[a <= 0] = 0\n",
    "\n",
    "masked_map = ma.masked_array(a, mask=~binary)\n",
    "img = masked_map\n",
    "mask = ~binary\n",
    "\n",
    "y_min = 69\n",
    "y_max = 100 #120\n",
    "x_min = 150\n",
    "x_max = 200\n",
    "rotation_angle = 27\n",
    "\n",
    "rotated_test = transform.rotate(img,rotation_angle,preserve_range = True,resize = True)\n",
    "rotated_mask = transform.rotate(mask,rotation_angle,preserve_range = True,resize = True)\n",
    "rotated_masked_image = ma.masked_array(rotated_test,mask = rotated_mask) \n",
    "\n",
    "roi_verts = [[y_max,x_max],[y_min,x_max],[y_min, x_min], [y_max, x_min]]\n",
    "roi_verts.append(roi_verts[0])\n",
    "x_roi, y_roi = zip(*roi_verts) \n",
    "\n",
    "cropped_rows = rotated_test[y_min:y_max,x_min:x_max].shape[0]\n",
    "\n",
    "plt.subplot(1,3,1)\n",
    "plt.imshow(img,vmin = 0.95,vmax = 1,cmap = 'gray')\n",
    "# plt.fill(x1,y1,'w',alpha = 1,edgecolor = 'k') \n",
    "plt.xlim([0,180])\n",
    "\n",
    "plt.title('unrotated image')\n",
    "plt.subplot(1,3,2)\n",
    "plt.imshow(rotated_masked_image,vmin = 0.95,vmax = 1,cmap = 'gray')\n",
    "plt.fill(y_roi,x_roi,'w',alpha = .3,edgecolor = 'k') \n",
    "plt.axis('scaled')\n",
    "plt.title('rotated image')\n",
    "\n",
    "plt.subplot(1,3,3)\n",
    "plt.imshow(rotated_test[y_min:y_max,x_min:x_max],vmin = 0.95,vmax = 1,cmap = 'gray')\n",
    "plt.title('cropped and rotated image image')\n",
    "# plt.tight_layout()\n",
    "\n",
    "\n",
    "# plt.savefig('profiles_tapping_protocol.png')"
   ]
  },
  {
   "cell_type": "code",
   "execution_count": null,
   "metadata": {},
   "outputs": [],
   "source": [
    "z_tile = rotated_test[y_min:y_max,x_min:x_max]\n",
    "\n",
    "#take the fft\n",
    "z_fft   = 1/np.shape(z_tile)[1]/np.shape(z_tile)[0]*np.fft.fft2(z_tile)\n",
    "z_fft_r = (z_fft.real**2+z_fft.imag**2)**0.5\n",
    "#shift high modes to the middle, erase the lowest modes\n",
    "z_fft_s = np.fft.fftshift(z_fft_r)\n",
    "#get autocorrelation of the topo data via the inverse of the fft\n",
    "z_rft_s = np.fft.fftshift(np.fft.ifft2((z_fft)*np.conj((z_fft)))).real*np.shape(z_tile)[1]*np.shape(z_tile)[0]\n",
    "z_rft_s = z_rft_s/np.var(z_tile)\n",
    "\n",
    "x = np.arange(np.shape(z_tile)[0])-np.shape(z_tile)[0]/2\n",
    "y = np.arange(np.shape(z_tile)[1])-np.shape(z_tile)[1]/2\n",
    "X,Y = np.meshgrid(x,y) \n",
    "\n",
    "\n",
    "fig = plt.figure(figsize=(4,2))\n",
    "\n",
    "ax1 = plt.subplot(1, 2, 1)\n",
    "ax1.imshow(rotated_test[y_min:y_max,x_min:x_max],vmin =1e-6,vmax = 1e-5,cmap = 'gray_r')\n",
    "ax1.set_title('cropped square original')\n",
    "\n",
    "ax2 = plt.subplot(1, 2, 2)\n",
    "im2 = ax2.pcolormesh(X,Y,z_rft_s,cmap='seismic')#,vmin=-1,vmax=1)\n",
    "# ax2.set_title('2d correlation function')\n",
    "# ax2.set_xlim([-15,15])\n",
    "# ax2.set_ylim([-15,15])\n",
    "\n",
    "divider = make_axes_locatable(ax2)\n",
    "cax = divider.append_axes('right', size='5%', pad=0.05)\n",
    "fig.colorbar(im2, cax=cax, orientation='vertical')#,format=ticker.FuncFormatter(fmt))\n",
    "# cax.tick_params(labelsize=15) \n",
    "cax.set_title('C')#,fontsize = 10)\n",
    "\n",
    "\n",
    "\n",
    "plt.tight_layout()\n",
    "\n",
    "# plt.savefig('/home/nakul/Documents/Python Scripts/DWS_Speckle_Analysis/iPython_notebooks/hello.png', bbox_inches='tight')"
   ]
  },
  {
   "cell_type": "markdown",
   "metadata": {},
   "source": [
    "### Creating variables to correctly scale depth"
   ]
  },
  {
   "cell_type": "code",
   "execution_count": null,
   "metadata": {},
   "outputs": [],
   "source": [
    "# this is the depth, in metapixels\n",
    "z = np.arange(0,(y_max-y_min),1)\n",
    "#depth in pixels\n",
    "z = z*10\n",
    "#depth in meters\n",
    "z = z*3.6e-5\n",
    "\n",
    "γ_z = (z[:-1] + z[1:]) / 2\n",
    "\n",
    "#depth normalized by grainsize\n",
    "# z = z/100e-6\n",
    "# z = z/np.max(z)"
   ]
  },
  {
   "cell_type": "markdown",
   "metadata": {},
   "source": [
    "### Computing depth-averaged quantities"
   ]
  },
  {
   "cell_type": "code",
   "execution_count": null,
   "metadata": {},
   "outputs": [],
   "source": [
    "def depth_average(correlation_map):\n",
    "    x = len(correlation_map)\n",
    "    timestep = len(correlation_map)\n",
    "    \n",
    "    G_mean_depth_averaged = [[] for _ in range(x)]\n",
    "    G_var_depth_averaged = [[] for _ in range(x)]\n",
    "    \n",
    "    ROI_average = []\n",
    "    ROI_var = []\n",
    "    \n",
    "    # deformation [time][row][column]\n",
    "    for t in range(timestep):\n",
    "        \n",
    "        G_map_temp = correlation_map[t]\n",
    "        G_map_rotated = transform.rotate(G_map_temp,rotation_angle,preserve_range = True,resize = True)\n",
    "        G_map_cropped = np.asarray(G_map_rotated[y_min:y_max,x_min:x_max])\n",
    "        \n",
    "        cropped_rows = G_map_cropped.shape[0]\n",
    "        cropped_columns = G_map_cropped.shape[1]\n",
    "        cropped_area = cropped_rows*cropped_columns\n",
    "        \n",
    "        ROI_average.append(np.nanmean(G_map_cropped))\n",
    "        ROI_var.append(np.nanvar(G_map_cropped))\n",
    "        \n",
    "        G_mean_temp = []\n",
    "        G_var_temp = []\n",
    "        \n",
    "        for i in range(cropped_rows):\n",
    "            G_mean_temp.append(np.nanmean(G_map_cropped[i][:]))\n",
    "            G_var_temp.append(np.nanvar(G_map_cropped[i][:]))\n",
    "            \n",
    "        G_mean_depth_averaged[t] = G_mean_temp\n",
    "        G_var_depth_averaged[t] = G_var_temp\n",
    "        \n",
    "        del G_map_temp,G_map_rotated,G_map_cropped,G_mean_temp,G_var_temp\n",
    "\n",
    "    return G_mean_depth_averaged#,G_var_depth_averaged,ROI_average,ROI_var"
   ]
  },
  {
   "cell_type": "code",
   "execution_count": null,
   "metadata": {},
   "outputs": [],
   "source": [
    "x = 5000\n",
    "# tapping_profiles = [[] for _ in range(x)]\n",
    "tapping_profiles = []\n",
    "\n",
    "for i in range (x):\n",
    "    temp_profile = depth_average(correlation_tapping[i])\n",
    "    tapping_profiles.append(temp_profile[1])\n",
    "    \n",
    "l = 3.3 * 100000\n",
    "c = ((8*np.pi)*(np.sqrt(2/5))*l)/633\n",
    "\n",
    "tapping_profiles = -(np.log(np.asarray(tapping_profiles))/c) "
   ]
  },
  {
   "cell_type": "code",
   "execution_count": null,
   "metadata": {},
   "outputs": [],
   "source": [
    "def calculate_I(profile):\n",
    "    #because all profiles are calculated within a 1-second window, the profile itself is the strain-rate profile.\n",
    "    γ_rate = profile\n",
    "    γ_z = z\n",
    "    d = 1e-4\n",
    "    g = 9.8\n",
    "    rho = 2650\n",
    "    phi = 0.6\n",
    "    alpha = 0.1\n",
    "    Po = alpha*rho*g*d\n",
    "    P = rho*g*z*phi+Po\n",
    "    I = (γ_rate*d)/np.sqrt(P/rho)\n",
    "    return I\n",
    "\n",
    "I_tapping = calculate_I(tapping_profiles)"
   ]
  },
  {
   "cell_type": "code",
   "execution_count": null,
   "metadata": {},
   "outputs": [],
   "source": [
    "#calculating means and stdev\n",
    "x = len(γ_z)\n",
    "I_means = [[] for _ in range(x)]\n",
    "I_stdev = [[] for _ in range(x)]\n",
    "depth_distributions = [[] for _ in range(x)]\n",
    "\n",
    "for i in range(x):\n",
    "    temp_depth = []\n",
    "    for t in range(len(I_tapping)):\n",
    "        temp_depth.append(I_tapping[t][i])\n",
    "    \n",
    "    I_means[i]=(np.mean(temp_depth))\n",
    "    I_stdev[i]=(np.std(temp_depth))\n",
    "    depth_distributions[i] = temp_depth\n",
    "    \n",
    "    del temp_depth "
   ]
  },
  {
   "cell_type": "code",
   "execution_count": null,
   "metadata": {},
   "outputs": [],
   "source": [
    "from matplotlib.pyplot import cm\n",
    "\n",
    "fig = plt.figure(figsize=(4,2))\n",
    "color=iter(cm.viridis(np.linspace(0,1,300)))\n",
    "\n",
    "\n",
    "ax1 = plt.subplot(1, 2, 1)\n",
    "ax2 = plt.subplot(1, 2, 2)\n",
    "\n",
    "for i in range(300):\n",
    "    c=next(color)\n",
    "    ax1.plot(I_tapping[i+3],z,'o',color = c,markersize = 2,alpha = 0.3)\n",
    "    \n",
    "ax1.plot(I_means,γ_z,'r--')\n",
    "ax1.invert_yaxis()\n",
    "ax1.set_xlabel('I')\n",
    "ax1.set_ylabel('depth (m)')\n",
    "ax1.ticklabel_format(axis='x', style='sci', scilimits=(0,0))\n",
    "ax1.ticklabel_format(axis='y', style='sci', scilimits=(0,0))\n",
    "\n",
    "color=iter(cm.viridis(np.linspace(0,1,4997)))\n",
    "for i in range(4996):\n",
    "    c=next(color)\n",
    "    ax2.plot(I_tapping[i+3],z,'o',color = c,markersize = 2,alpha = 0.3)\n",
    "    \n",
    "ax2.plot(I_means,γ_z,'k--')\n",
    "ax2.invert_yaxis()\n",
    "ax2.set_xlabel('I')\n",
    "ax2.set_yticks([])\n",
    "ax2.ticklabel_format(axis='x', style='sci', scilimits=(0,0))\n",
    "ax2.set_xscale('log')\n",
    "\n",
    "\n",
    "\n",
    "plt.tight_layout()\n",
    "# plt.savefig('mean_inertialnumber_tapping.pdf', bbox_inches='tight')"
   ]
  },
  {
   "cell_type": "markdown",
   "metadata": {},
   "source": [
    "### Summary shear and I profiles"
   ]
  },
  {
   "cell_type": "code",
   "execution_count": null,
   "metadata": {},
   "outputs": [],
   "source": [
    "l = 3.3 * 100000\n",
    "c = ((8*np.pi)*(np.sqrt(2/5))*l)/633\n",
    "\n",
    "snapshot = -(np.log(np.asarray(rotated_test[y_min:y_max,x_min:x_max]))/c) "
   ]
  },
  {
   "cell_type": "code",
   "execution_count": null,
   "metadata": {},
   "outputs": [],
   "source": [
    "fig = plt.figure(figsize=(6,2))\n",
    "ax1 = plt.subplot(1, 2, 1)\n",
    "\n",
    "im = ax1.imshow(snapshot,vmin = 1e-7,vmax = 1e-5,cmap = 'inferno_r')\n",
    "ax1.set_xticks([])\n",
    "ax1.set_yticks([])\n",
    "\n",
    "divider = make_axes_locatable(ax1)\n",
    "cax = divider.append_axes('right', size='5%', pad=0.05)\n",
    "fig.colorbar(im1, cax=cax,format='%.0e', orientation='vertical')\n",
    "# cax.tick_params(labelsize=15) \n",
    "cax.set_title('$\\dot{\\epsilon}$',fontsize = 10)\n",
    "##############################################################################\n",
    "color=iter(cm.inferno(np.linspace(0,1,300)))\n",
    "ax2 = plt.subplot(1, 2, 2)\n",
    "\n",
    "\n",
    "for i in range(300):\n",
    "    c=next(color)\n",
    "    ax2.plot(I_tapping[i+3],z,'o',color = c,markersize = 2,alpha = 1)\n",
    "    \n",
    "ax2.plot(I_means,γ_z,'r--')\n",
    "ax2.invert_yaxis()\n",
    "ax2.set_xlabel('I')\n",
    "ax2.set_ylabel('depth (m)')\n",
    "ax2.ticklabel_format(axis='x', style='sci', scilimits=(0,0))\n",
    "ax2.ticklabel_format(axis='y', style='sci', scilimits=(0,0))\n",
    "\n",
    "ax2.set_yscale('log')\n",
    "\n",
    "\n",
    "from matplotlib import rc\n",
    "rc('font',**{'family':'sans-serif','sans-serif':['Latin Modern Math']})\n",
    "plt.rcParams['pdf.fonttype'] = 42\n",
    "\n",
    "plt.tight_layout()\n",
    "\n",
    "plt.savefig('/home/nakul/Documents/Python Scripts/DWS_Speckle_Analysis/iPython_notebooks/tapping_map.svg')"
   ]
  },
  {
   "cell_type": "code",
   "execution_count": null,
   "metadata": {},
   "outputs": [],
   "source": [
    "color=iter(cm.viridis(np.linspace(0,1,300)))\n",
    "\n",
    "fig = plt.figure(figsize=(2,2))\n",
    "ax1 = plt.subplot(1, 1, 1)\n",
    "\n",
    "color=iter(cm.inferno(np.linspace(0,1,300)))\n",
    "\n",
    "\n",
    "for i in range(300):\n",
    "    c=next(color)\n",
    "    ax1.plot(I_tapping[i+3],z,'o',color = c,markersize = 2,alpha = 1)\n",
    "    \n",
    "ax1.plot(I_means,γ_z,'r--')\n",
    "ax1.invert_yaxis()\n",
    "ax1.set_xlabel('I')\n",
    "ax1.set_ylabel('depth (m)')\n",
    "ax1.ticklabel_format(axis='x', style='sci', scilimits=(0,0))\n",
    "ax1.ticklabel_format(axis='y', style='sci', scilimits=(0,0))\n",
    "\n",
    "ax1.set_yscale('log')\n",
    "\n",
    "\n",
    "from matplotlib import rc\n",
    "rc('font',**{'family':'sans-serif','sans-serif':['Latin Modern Math']})\n",
    "plt.rcParams['pdf.fonttype'] = 42\n",
    "\n",
    "plt.tight_layout()\n",
    "plt.savefig('/home/nakul/Documents/Python Scripts/DWS_Speckle_Analysis/iPython_notebooks/mean_inertialnumber_tapping.svg', bbox_inches='tight')"
   ]
  },
  {
   "cell_type": "markdown",
   "metadata": {},
   "source": [
    "## Movie frames"
   ]
  },
  {
   "cell_type": "code",
   "execution_count": 28,
   "metadata": {},
   "outputs": [],
   "source": [
    "def fmt(x, pos):\n",
    "    a, b = '{:.2e}'.format(x).split('e')\n",
    "    b = int(b)\n",
    "    return r'${} \\times 10^{{{}}}$'.format(a, b)"
   ]
  },
  {
   "cell_type": "code",
   "execution_count": 29,
   "metadata": {},
   "outputs": [
    {
     "ename": "NameError",
     "evalue": "name 'correlation_tapping' is not defined",
     "output_type": "error",
     "traceback": [
      "\u001b[0;31m---------------------------------------------------------------------------\u001b[0m",
      "\u001b[0;31mNameError\u001b[0m                                 Traceback (most recent call last)",
      "\u001b[0;32m<ipython-input-29-8f5aa2dcca29>\u001b[0m in \u001b[0;36m<module>\u001b[0;34m\u001b[0m\n\u001b[1;32m      3\u001b[0m \u001b[0mfig\u001b[0m \u001b[0;34m=\u001b[0m \u001b[0mplt\u001b[0m\u001b[0;34m.\u001b[0m\u001b[0mfigure\u001b[0m\u001b[0;34m(\u001b[0m\u001b[0mfigsize\u001b[0m\u001b[0;34m=\u001b[0m\u001b[0;34m(\u001b[0m\u001b[0;36m6\u001b[0m\u001b[0;34m,\u001b[0m\u001b[0;36m6\u001b[0m\u001b[0;34m)\u001b[0m\u001b[0;34m)\u001b[0m\u001b[0;34m\u001b[0m\u001b[0;34m\u001b[0m\u001b[0m\n\u001b[1;32m      4\u001b[0m \u001b[0;34m\u001b[0m\u001b[0m\n\u001b[0;32m----> 5\u001b[0;31m \u001b[0ma\u001b[0m \u001b[0;34m=\u001b[0m \u001b[0mlen\u001b[0m\u001b[0;34m(\u001b[0m\u001b[0mcorrelation_tapping\u001b[0m\u001b[0;34m)\u001b[0m\u001b[0;34m\u001b[0m\u001b[0;34m\u001b[0m\u001b[0m\n\u001b[0m\u001b[1;32m      6\u001b[0m \u001b[0;34m\u001b[0m\u001b[0m\n\u001b[1;32m      7\u001b[0m \u001b[0mn\u001b[0m \u001b[0;34m=\u001b[0m \u001b[0;36m0\u001b[0m\u001b[0;34m\u001b[0m\u001b[0;34m\u001b[0m\u001b[0m\n",
      "\u001b[0;31mNameError\u001b[0m: name 'correlation_tapping' is not defined"
     ]
    },
    {
     "data": {
      "text/plain": [
       "<Figure size 1800x1800 with 0 Axes>"
      ]
     },
     "metadata": {},
     "output_type": "display_data"
    }
   ],
   "source": [
    "plt.style.use('dark_background')\n",
    "\n",
    "fig = plt.figure(figsize=(6,6))\n",
    "\n",
    "a = len(correlation_tapping)\n",
    "\n",
    "n = 0\n",
    "\n",
    "for i in range(0,6000,100):\n",
    "    \n",
    "    ax1 = plt.subplot(1, 1, 1)\n",
    "\n",
    "    frame = correlation_tapping[i][1]\n",
    "    frame[frame <= 0] = 1e-32\n",
    "    masked_map = ma.masked_array(frame, mask=mask_tapping)\n",
    "    masked_map = -(np.log(masked_map)/c) \n",
    "\n",
    "    im1 = ax1.imshow(masked_map,vmin = 1e-7,vmax = 1e-5,cmap = 'inferno')\n",
    "\n",
    "    cmap = plt.cm.gray\n",
    "    cmap.set_bad('grey',1.)\n",
    "\n",
    "    divider = make_axes_locatable(ax1)\n",
    "    cax = divider.append_axes('right', size='5%', pad=0.05)\n",
    "    fig.colorbar(im1, cax=cax, orientation='vertical',format=ticker.FuncFormatter(fmt))\n",
    "    cax.set_title(r'$\\dot{\\epsilon}$',fontsize = 12)\n",
    "    ax1.annotate(r\"\\# of taps \" + str(i), xy=(5, 5), xytext=(120, 20),fontsize = 12)\n",
    "    ax1.set_xticks([]);\n",
    "    ax1.set_yticks([]);\n",
    "    \n",
    "    fig.tight_layout()\n",
    "\n",
    "\n",
    "    plt.savefig(\"/home/nakul/Documents/Geomorphology/CreepExperiment_videos/tapping/taps\" + str(n) +\".png\", format=\"PNG\")\n",
    "    plt.clf()\n",
    "    n += 1"
   ]
  },
  {
   "cell_type": "markdown",
   "metadata": {},
   "source": [
    "## Tapping - longtime relaxation curves"
   ]
  },
  {
   "cell_type": "markdown",
   "metadata": {},
   "source": [
    "These data are images taken after tapping_cycles_c: 3 cycles of 1000 taps. The goal of collecting these data is to explore the decay of the correlation function after many taps. "
   ]
  },
  {
   "cell_type": "code",
   "execution_count": null,
   "metadata": {},
   "outputs": [],
   "source": [
    "tapping_longtime = np.load('tapping_c_longtime.npz')\n",
    "# correlation_tapping_longtime = tapping_longtime['data1']\n",
    "means_tapping_longtime = tapping_longtime['data2']"
   ]
  },
  {
   "cell_type": "code",
   "execution_count": null,
   "metadata": {
    "scrolled": false
   },
   "outputs": [],
   "source": [
    "from matplotlib.pyplot import cm\n",
    "\n",
    "a = (np.logspace(1, 13, num=13, base=2))\n",
    "b = 10*a/60\n",
    "labels = list(b)\n",
    "\n",
    "color=iter(cm.viridis(np.linspace(0,1,13)))\n",
    "time = np.arange(1,10001,10)\n",
    "\n",
    "fig = plt.figure(figsize=(4, 2))\n",
    "ax1 = plt.subplot(111)\n",
    "\n",
    "for t in range(13):\n",
    "    c=next(color)\n",
    "    ax1.plot(time,means_tapping_longtime[t],'o',color = c,markersize =1,label = int(labels[t]))\n",
    "\n",
    "# ax1.set_xscale('log')\n",
    "ax1.set_ylim([0.55,1])\n",
    "\n",
    "ax1.set_xlabel(r'$ \\tau $ (s)')\n",
    "ax1.set_ylabel(r'$ \\langle G \\rangle$')\n",
    "\n",
    "box = ax1.get_position()\n",
    "lgd = ax1.legend()\n",
    "ax1.set_position([box.x0, box.y0, box.width * 0.8, box.height])\n",
    "ax1.legend(title = 'time after 3000 taps (minutes)',loc='center left', frameon = False, bbox_to_anchor=(1, 0.5))\n",
    "\n",
    "plt.tight_layout()\n",
    "\n",
    "# plt.savefig('after_3000taps.png', bbox_inches='tight')"
   ]
  },
  {
   "cell_type": "code",
   "execution_count": null,
   "metadata": {},
   "outputs": [],
   "source": [
    "from mpl_toolkits.axes_grid1 import make_axes_locatable\n",
    "\n",
    "fig = plt.figure(figsize=(3, 3))\n",
    "ax1 = plt.subplot(1, 1, 1)\n",
    "# ax2 = plt.subplot(1, 2, 2)\n",
    "l = 3.3 * 100000\n",
    "c = ((8*np.pi)*(np.sqrt(2/5))*l)/633\n",
    "\n",
    "a = correlation_tapping_longtime[12][800]\n",
    "a[a <= 0] = 0\n",
    "\n",
    "masked_map = ma.masked_array(a, mask=mask_tapping)\n",
    "\n",
    "# masked_map = -(np.log(masked_map)/c) \n",
    "\n",
    "im1 = ax1.imshow(masked_map,vmin = .6,vmax = 1,cmap = 'gray')\n",
    "\n",
    "cmap = plt.cm.gray_r\n",
    "cmap.set_bad('white',1.)\n",
    "\n",
    "divider = make_axes_locatable(ax1)\n",
    "cax = divider.append_axes('right', size='5%', pad=0.05)\n",
    "fig.colorbar(im1, cax=cax,format='%.0e', orientation='vertical')\n",
    "# cax.tick_params(labelsize=15) \n",
    "cax.set_title('$\\epsilon$',fontsize = 10)\n",
    "\n",
    "ax1.set_xticks([]);\n",
    "ax1.set_yticks([]);\n",
    "\n",
    "# plt.savefig('tapping_t_4000', bbox_inches='tight')"
   ]
  },
  {
   "cell_type": "markdown",
   "metadata": {},
   "source": [
    "## Multicycle tapping"
   ]
  },
  {
   "cell_type": "code",
   "execution_count": null,
   "metadata": {},
   "outputs": [],
   "source": [
    "tapping_multicycle = np.load('/home/ndeshpande/Documents/Python Scripts/DWS_Speckle_Analysis/outputs/2019/tap_multicycle.npz')\n",
    "# correlation_tapping_multicycle = tapping_multicycle ['data1']\n",
    "means_tapping_multicycle = tapping_multicycle ['data2']"
   ]
  },
  {
   "cell_type": "code",
   "execution_count": null,
   "metadata": {},
   "outputs": [],
   "source": [
    "l = 3.3 * 100000\n",
    "c = ((8*np.pi)*(np.sqrt(2/5))*l)/633\n",
    "\n",
    "tapping_multicycle = []\n",
    "\n",
    "for i in range(len(means_tapping_multicycle)):\n",
    "    tapping_multicycle.append(-(np.log(means_tapping_multicycle[i][1])/c) )"
   ]
  },
  {
   "cell_type": "markdown",
   "metadata": {},
   "source": [
    "# Heat"
   ]
  },
  {
   "cell_type": "code",
   "execution_count": 3,
   "metadata": {},
   "outputs": [],
   "source": [
    "import glob\n",
    "import natsort\n",
    "\n",
    "image_names = []\n",
    "\n",
    "for name in glob.glob('/media/nakul/Backup Plus/Data/DWS_RawExperimentPhotos/feb_15_heat/heating_disturbance/img_*.jpg'):\n",
    "    image_names.append(name)\n",
    "\n",
    "image_names = natsort.natsorted(image_names,reverse=False)\n",
    "timestep = len(image_names)"
   ]
  },
  {
   "cell_type": "markdown",
   "metadata": {},
   "source": [
    "## Creating masks"
   ]
  },
  {
   "cell_type": "code",
   "execution_count": 4,
   "metadata": {},
   "outputs": [],
   "source": [
    "#specify the bounds of the image - should be evenly divisible by the metapixel size\n",
    "x_min = 0\n",
    "x_max = 1900\n",
    "y_min = 0\n",
    "y_max = 1400\n",
    "\n",
    "# choosing two speckle images\n",
    "speckle_a = Image.open(image_names[50])\n",
    "speckle_a = np.asarray(speckle_a)[y_min:y_max,x_min:x_max]\n",
    "\n",
    "speckle_b = Image.open(image_names[60])\n",
    "speckle_b = np.asarray(speckle_b)[y_min:y_max,x_min:x_max]\n",
    "    \n",
    "# partitioning images into metpixels\n",
    "size = 10\n",
    "a = speckle_a\n",
    "lenr, lenc = int(a.shape[0]/size), int(a.shape[1]/size)\n",
    "## 'flattening' the metapixel array along a single axis\n",
    "metapixels_a = speckle_a.reshape(lenr,size,lenc,size).transpose(0, 2, 1, 3)\n",
    "\n",
    "b = speckle_b\n",
    "lenr, lenc = int(b.shape[0]/size), int(b.shape[1]/size)\n",
    "metapixels_b = speckle_b.reshape(lenr,size,lenc,size).transpose(0, 2, 1, 3)\n",
    "    \n",
    "metapixel_grid_rows = metapixels_a.shape[0]\n",
    "metapixel_grid_columns = metapixels_a.shape[1]\n",
    "metapixel_grid_area = metapixel_grid_rows*metapixel_grid_columns"
   ]
  },
  {
   "cell_type": "code",
   "execution_count": 5,
   "metadata": {},
   "outputs": [],
   "source": [
    "mp_a_mean = np.mean(metapixels_a,axis = (2,3))\n",
    "mp_b_mean = np.mean(metapixels_b,axis = (2,3))\n",
    "\n",
    "## Adding [...,np.newaxis,np.newaxis] allows the array of means to be subtracted\n",
    "## from the array containing metapixels. otherwise, their shapes are not the same\n",
    "metapixels_a = np.subtract(metapixels_a,mp_a_mean[..., np.newaxis,np.newaxis])\n",
    "metapixels_b = np.subtract(metapixels_b,mp_b_mean[..., np.newaxis,np.newaxis])"
   ]
  },
  {
   "cell_type": "code",
   "execution_count": 6,
   "metadata": {},
   "outputs": [
    {
     "data": {
      "image/png": "[encoded data removed]",
      "text/plain": [
       "<Figure size 3000x2400 with 8 Axes>"
      ]
     },
     "metadata": {
      "needs_background": "light"
     },
     "output_type": "display_data"
    }
   ],
   "source": [
    "from skimage.filters import try_all_threshold\n",
    "\n",
    "img = mp_a_mean\n",
    "\n",
    "# Here, we specify a radius for local thresholding algorithms.\n",
    "# If it is not specified, only global algorithms are called.\n",
    "fig, ax = try_all_threshold(img, figsize=(10, 8), verbose=False)\n",
    "plt.show()"
   ]
  },
  {
   "cell_type": "code",
   "execution_count": 7,
   "metadata": {},
   "outputs": [
    {
     "data": {
      "image/png": "[encoded data removed]",
      "text/plain": [
       "<Figure size 2400x750 with 3 Axes>"
      ]
     },
     "metadata": {
      "needs_background": "light"
     },
     "output_type": "display_data"
    }
   ],
   "source": [
    "from skimage.filters import threshold_minimum\n",
    "image = mp_a_mean\n",
    "thresh = threshold_minimum(image)\n",
    "binary = image > thresh\n",
    "mask_heat = ~binary\n",
    "\n",
    "fig, axes = plt.subplots(ncols=3, figsize=(8, 2.5))\n",
    "ax = axes.ravel()\n",
    "ax[0] = plt.subplot(1, 3, 1)\n",
    "ax[1] = plt.subplot(1, 3, 2)\n",
    "ax[2] = plt.subplot(1, 3, 3, sharex=ax[0], sharey=ax[0])\n",
    "\n",
    "ax[0].imshow(image, cmap=plt.cm.gray)\n",
    "ax[0].set_title('Original')\n",
    "ax[0].axis('off')\n",
    "\n",
    "ax[1].hist(image.ravel(), bins=256)\n",
    "ax[1].set_title('Histogram')\n",
    "ax[1].axvline(thresh, color='r')\n",
    "\n",
    "ax[2].imshow(binary, cmap=plt.cm.gray)\n",
    "ax[2].set_title('Thresholded')\n",
    "ax[2].axis('off')\n",
    "\n",
    "plt.show()"
   ]
  },
  {
   "cell_type": "markdown",
   "metadata": {},
   "source": [
    "## Calculating G"
   ]
  },
  {
   "cell_type": "code",
   "execution_count": null,
   "metadata": {},
   "outputs": [],
   "source": [
    "# time = np.logspace(1, 13, num=13, base=2)\n",
    "# time = (0,10,25,50,100,250,500)\n",
    "time = np.arange (0,250,10)\n",
    "\n",
    "correlation_heat, means_heat = Calculate_G(image_names,6,time,100)"
   ]
  },
  {
   "cell_type": "code",
   "execution_count": null,
   "metadata": {},
   "outputs": [],
   "source": [
    "#this saves G for 10 cycles of tapping at a single lag\n",
    "np.savez('/media/nakul/Backup Plus/Data/DWS_Correlation_Outputs/outputs/2020/feb/old_outputs/heat_feb15_0_250_relaxation',data1 = correlation_heat, data2 =  means_heat)"
   ]
  },
  {
   "cell_type": "markdown",
   "metadata": {},
   "source": [
    "### Loading instantaneous creep rates"
   ]
  },
  {
   "cell_type": "code",
   "execution_count": 15,
   "metadata": {},
   "outputs": [],
   "source": [
    "heat_dt = np.load('/media/nakul/Backup Plus/Data/DWS_Correlation_Outputs/outputs/2020/feb/old_outputs/heat_feb15_dt.npz')\n",
    "correlation_heat_dt = heat_dt['data1']\n",
    "means_heat_dt = heat_dt['data2']"
   ]
  },
  {
   "cell_type": "markdown",
   "metadata": {},
   "source": [
    "### Loading short-duration correlation functions: post heating (immediately after heating)"
   ]
  },
  {
   "cell_type": "markdown",
   "metadata": {},
   "source": [
    "The timesteps in the correlation functions are t = 0 - 250 in steps of 10 seconds. each correlation function is composed of 100 lags"
   ]
  },
  {
   "cell_type": "code",
   "execution_count": 8,
   "metadata": {},
   "outputs": [],
   "source": [
    "heat_short = np.load('/media/nakul/Backup Plus/Data/DWS_Correlation_Outputs/outputs/2020/feb/old_outputs/heat_feb15_0_250_relaxation.npz')\n",
    "correlation_heat_short = heat_short['data1']\n",
    "means_heat_short = heat_short['data2']"
   ]
  },
  {
   "cell_type": "markdown",
   "metadata": {},
   "source": [
    "### Loading long-duration correlation functions: post heating"
   ]
  },
  {
   "cell_type": "code",
   "execution_count": null,
   "metadata": {},
   "outputs": [],
   "source": [
    "heat_long = np.load('/media/nakul/Backup Plus/Data/DWS_Correlation_Outputs/outputs/2020/feb/old_outputs/heat_feb15.npz')\n",
    "correlation_heat_long = heat_long['data1']\n",
    "means_heat_long = heat_long['data2']"
   ]
  },
  {
   "cell_type": "markdown",
   "metadata": {},
   "source": [
    "### Loading preheat/preparation"
   ]
  },
  {
   "cell_type": "code",
   "execution_count": null,
   "metadata": {},
   "outputs": [],
   "source": [
    "heat_prep = np.load('/media/nakul/Backup Plus/Data/DWS_Correlation_Outputs/outputs/2020/feb/old_outputs/undisturbed_feb_13_preheat.npz')\n",
    "correlation_heat_prep = heat_prep['data1']\n",
    "means_heat_prep = heat_prep['data2']"
   ]
  },
  {
   "cell_type": "markdown",
   "metadata": {},
   "source": [
    "## 2d maps"
   ]
  },
  {
   "cell_type": "code",
   "execution_count": 12,
   "metadata": {},
   "outputs": [],
   "source": [
    "l = 3.3 * 100000\n",
    "c = ((8*np.pi)*(np.sqrt(2/5))*l)/633"
   ]
  },
  {
   "cell_type": "code",
   "execution_count": 43,
   "metadata": {},
   "outputs": [
    {
     "name": "stderr",
     "output_type": "stream",
     "text": [
      "<ipython-input-43-a7e0dbee9dd2>:11: RuntimeWarning: invalid value encountered in less_equal\n",
      "  a[a <= 0] = .00000000000000001\n"
     ]
    },
    {
     "data": {
      "image/png": "[encoded data removed]",
      "text/plain": [
       "<Figure size 2400x900 with 3 Axes>"
      ]
     },
     "metadata": {},
     "output_type": "display_data"
    }
   ],
   "source": [
    "plt.style.use('dark_background')\n",
    "\n",
    "\n",
    "from mpl_toolkits.axes_grid1 import make_axes_locatable\n",
    "\n",
    "fig = plt.figure(figsize=(8, 3))\n",
    "ax1 = plt.subplot(1, 2, 1)\n",
    "ax2 = plt.subplot(1, 2, 2)\n",
    "\n",
    "frame = correlation_heat_short [1][1]\n",
    "a[a <= 0] = .00000000000000001\n",
    "\n",
    "masked_map = ma.masked_array(a, mask=mask_heat,fill = 1)\n",
    "\n",
    "masked_map = -(np.log(masked_map)/c) \n",
    "\n",
    "im1 = ax1.imshow(masked_map,vmin = 1e-7,vmax = 1e-5,cmap = 'inferno')\n",
    "\n",
    "cmap = plt.cm.gray_r\n",
    "cmap.set_bad('white',1.)\n",
    "\n",
    "divider = make_axes_locatable(ax1)\n",
    "cax = divider.append_axes('right', size='5%', pad=0.05)\n",
    "fig.colorbar(im1, cax=cax,format='%.0e', orientation='vertical')\n",
    "# cax.tick_params(labelsize=15) \n",
    "cax.set_title('$\\dot{\\epsilon}$',fontsize = 10)\n",
    "\n",
    "ax1.set_xticks([]);\n",
    "ax1.set_yticks([]);\n",
    "\n",
    "\n",
    "\n",
    "\n",
    "test = []\n",
    "for i in range(len(means_heat_dt)):\n",
    "    test.append(means_heat_dt[i][1])\n",
    "    \n",
    "i = 10\n",
    "heat_def = -(np.log(test)/c) \n",
    "ax2.plot(heat_def[0:200],'r',alpha =1)\n",
    "ax2.plot(i,heat_def[i],'o',markersize = 10,markeredgecolor = 'k')\n",
    "\n",
    "\n",
    "ax2.ticklabel_format(axis='y', style='sci', scilimits=(0,0))\n",
    "ax2.set_ylabel(r'$ \\langle \\dot{\\epsilon} \\rangle$',fontsize = 8)\n",
    "ax2.set_xlabel('time (s)',fontsize = 8)\n",
    "\n",
    "fig.tight_layout()\n",
    "\n",
    "\n",
    "# plt.savefig('tapping_t_4000', bbox_inches='tight')"
   ]
  },
  {
   "cell_type": "code",
   "execution_count": 47,
   "metadata": {},
   "outputs": [
    {
     "data": {
      "text/plain": [
       "25"
      ]
     },
     "execution_count": 47,
     "metadata": {},
     "output_type": "execute_result"
    }
   ],
   "source": [
    "a"
   ]
  },
  {
   "cell_type": "code",
   "execution_count": 52,
   "metadata": {},
   "outputs": [
    {
     "name": "stderr",
     "output_type": "stream",
     "text": [
      "<ipython-input-52-930766f99828>:21: RuntimeWarning: invalid value encountered in less_equal\n",
      "  frame[frame <= 0] = .00000000000000001\n",
      "<ipython-input-52-930766f99828>:21: RuntimeWarning: invalid value encountered in less_equal\n",
      "  frame[frame <= 0] = .00000000000000001\n",
      "<ipython-input-52-930766f99828>:21: RuntimeWarning: invalid value encountered in less_equal\n",
      "  frame[frame <= 0] = .00000000000000001\n",
      "<ipython-input-52-930766f99828>:21: RuntimeWarning: invalid value encountered in less_equal\n",
      "  frame[frame <= 0] = .00000000000000001\n",
      "<ipython-input-52-930766f99828>:21: RuntimeWarning: invalid value encountered in less_equal\n",
      "  frame[frame <= 0] = .00000000000000001\n",
      "<ipython-input-52-930766f99828>:21: RuntimeWarning: invalid value encountered in less_equal\n",
      "  frame[frame <= 0] = .00000000000000001\n",
      "<ipython-input-52-930766f99828>:21: RuntimeWarning: invalid value encountered in less_equal\n",
      "  frame[frame <= 0] = .00000000000000001\n",
      "<ipython-input-52-930766f99828>:21: RuntimeWarning: invalid value encountered in less_equal\n",
      "  frame[frame <= 0] = .00000000000000001\n",
      "<ipython-input-52-930766f99828>:21: RuntimeWarning: invalid value encountered in less_equal\n",
      "  frame[frame <= 0] = .00000000000000001\n",
      "<ipython-input-52-930766f99828>:21: RuntimeWarning: invalid value encountered in less_equal\n",
      "  frame[frame <= 0] = .00000000000000001\n",
      "<ipython-input-52-930766f99828>:21: RuntimeWarning: invalid value encountered in less_equal\n",
      "  frame[frame <= 0] = .00000000000000001\n",
      "<ipython-input-52-930766f99828>:21: RuntimeWarning: invalid value encountered in less_equal\n",
      "  frame[frame <= 0] = .00000000000000001\n",
      "<ipython-input-52-930766f99828>:21: RuntimeWarning: invalid value encountered in less_equal\n",
      "  frame[frame <= 0] = .00000000000000001\n",
      "<ipython-input-52-930766f99828>:21: RuntimeWarning: invalid value encountered in less_equal\n",
      "  frame[frame <= 0] = .00000000000000001\n",
      "<ipython-input-52-930766f99828>:21: RuntimeWarning: invalid value encountered in less_equal\n",
      "  frame[frame <= 0] = .00000000000000001\n",
      "<ipython-input-52-930766f99828>:21: RuntimeWarning: invalid value encountered in less_equal\n",
      "  frame[frame <= 0] = .00000000000000001\n",
      "<ipython-input-52-930766f99828>:21: RuntimeWarning: invalid value encountered in less_equal\n",
      "  frame[frame <= 0] = .00000000000000001\n",
      "<ipython-input-52-930766f99828>:21: RuntimeWarning: invalid value encountered in less_equal\n",
      "  frame[frame <= 0] = .00000000000000001\n",
      "<ipython-input-52-930766f99828>:21: RuntimeWarning: invalid value encountered in less_equal\n",
      "  frame[frame <= 0] = .00000000000000001\n",
      "<ipython-input-52-930766f99828>:16: RuntimeWarning: More than 20 figures have been opened. Figures created through the pyplot interface (`matplotlib.pyplot.figure`) are retained until explicitly closed and may consume too much memory. (To control this warning, see the rcParam `figure.max_open_warning`).\n",
      "  fig = plt.figure(figsize=(8, 3))\n",
      "<ipython-input-52-930766f99828>:21: RuntimeWarning: invalid value encountered in less_equal\n",
      "  frame[frame <= 0] = .00000000000000001\n",
      "<ipython-input-52-930766f99828>:16: RuntimeWarning: More than 20 figures have been opened. Figures created through the pyplot interface (`matplotlib.pyplot.figure`) are retained until explicitly closed and may consume too much memory. (To control this warning, see the rcParam `figure.max_open_warning`).\n",
      "  fig = plt.figure(figsize=(8, 3))\n",
      "<ipython-input-52-930766f99828>:21: RuntimeWarning: invalid value encountered in less_equal\n",
      "  frame[frame <= 0] = .00000000000000001\n",
      "<ipython-input-52-930766f99828>:16: RuntimeWarning: More than 20 figures have been opened. Figures created through the pyplot interface (`matplotlib.pyplot.figure`) are retained until explicitly closed and may consume too much memory. (To control this warning, see the rcParam `figure.max_open_warning`).\n",
      "  fig = plt.figure(figsize=(8, 3))\n",
      "<ipython-input-52-930766f99828>:21: RuntimeWarning: invalid value encountered in less_equal\n",
      "  frame[frame <= 0] = .00000000000000001\n",
      "<ipython-input-52-930766f99828>:16: RuntimeWarning: More than 20 figures have been opened. Figures created through the pyplot interface (`matplotlib.pyplot.figure`) are retained until explicitly closed and may consume too much memory. (To control this warning, see the rcParam `figure.max_open_warning`).\n",
      "  fig = plt.figure(figsize=(8, 3))\n",
      "<ipython-input-52-930766f99828>:21: RuntimeWarning: invalid value encountered in less_equal\n",
      "  frame[frame <= 0] = .00000000000000001\n",
      "<ipython-input-52-930766f99828>:16: RuntimeWarning: More than 20 figures have been opened. Figures created through the pyplot interface (`matplotlib.pyplot.figure`) are retained until explicitly closed and may consume too much memory. (To control this warning, see the rcParam `figure.max_open_warning`).\n",
      "  fig = plt.figure(figsize=(8, 3))\n",
      "<ipython-input-52-930766f99828>:21: RuntimeWarning: invalid value encountered in less_equal\n",
      "  frame[frame <= 0] = .00000000000000001\n",
      "<ipython-input-52-930766f99828>:16: RuntimeWarning: More than 20 figures have been opened. Figures created through the pyplot interface (`matplotlib.pyplot.figure`) are retained until explicitly closed and may consume too much memory. (To control this warning, see the rcParam `figure.max_open_warning`).\n",
      "  fig = plt.figure(figsize=(8, 3))\n",
      "<ipython-input-52-930766f99828>:21: RuntimeWarning: invalid value encountered in less_equal\n",
      "  frame[frame <= 0] = .00000000000000001\n",
      "<ipython-input-52-930766f99828>:16: RuntimeWarning: More than 20 figures have been opened. Figures created through the pyplot interface (`matplotlib.pyplot.figure`) are retained until explicitly closed and may consume too much memory. (To control this warning, see the rcParam `figure.max_open_warning`).\n",
      "  fig = plt.figure(figsize=(8, 3))\n"
     ]
    },
    {
     "ename": "IndexError",
     "evalue": "index 25 is out of bounds for axis 0 with size 25",
     "output_type": "error",
     "traceback": [
      "\u001b[0;31m---------------------------------------------------------------------------\u001b[0m",
      "\u001b[0;31mIndexError\u001b[0m                                Traceback (most recent call last)",
      "\u001b[0;32m<ipython-input-52-930766f99828>\u001b[0m in \u001b[0;36m<module>\u001b[0;34m\u001b[0m\n\u001b[1;32m     18\u001b[0m     \u001b[0max2\u001b[0m \u001b[0;34m=\u001b[0m \u001b[0mplt\u001b[0m\u001b[0;34m.\u001b[0m\u001b[0msubplot\u001b[0m\u001b[0;34m(\u001b[0m\u001b[0;36m1\u001b[0m\u001b[0;34m,\u001b[0m \u001b[0;36m2\u001b[0m\u001b[0;34m,\u001b[0m \u001b[0;36m2\u001b[0m\u001b[0;34m)\u001b[0m\u001b[0;34m\u001b[0m\u001b[0;34m\u001b[0m\u001b[0m\n\u001b[1;32m     19\u001b[0m \u001b[0;34m\u001b[0m\u001b[0m\n\u001b[0;32m---> 20\u001b[0;31m     \u001b[0mframe\u001b[0m \u001b[0;34m=\u001b[0m \u001b[0mcorrelation_heat_short\u001b[0m \u001b[0;34m[\u001b[0m\u001b[0mi\u001b[0m\u001b[0;34m]\u001b[0m\u001b[0;34m[\u001b[0m\u001b[0;36m1\u001b[0m\u001b[0;34m]\u001b[0m\u001b[0;34m\u001b[0m\u001b[0;34m\u001b[0m\u001b[0m\n\u001b[0m\u001b[1;32m     21\u001b[0m     \u001b[0mframe\u001b[0m\u001b[0;34m[\u001b[0m\u001b[0mframe\u001b[0m \u001b[0;34m<=\u001b[0m \u001b[0;36m0\u001b[0m\u001b[0;34m]\u001b[0m \u001b[0;34m=\u001b[0m \u001b[0;36m.00000000000000001\u001b[0m\u001b[0;34m\u001b[0m\u001b[0;34m\u001b[0m\u001b[0m\n\u001b[1;32m     22\u001b[0m \u001b[0;34m\u001b[0m\u001b[0m\n",
      "\u001b[0;31mIndexError\u001b[0m: index 25 is out of bounds for axis 0 with size 25"
     ]
    },
    {
     "data": {
      "text/plain": [
       "<Figure size 1800x1800 with 0 Axes>"
      ]
     },
     "metadata": {},
     "output_type": "display_data"
    },
    {
     "data": {
      "text/plain": [
       "<Figure size 2400x900 with 0 Axes>"
      ]
     },
     "metadata": {},
     "output_type": "display_data"
    },
    {
     "data": {
      "text/plain": [
       "<Figure size 2400x900 with 0 Axes>"
      ]
     },
     "metadata": {},
     "output_type": "display_data"
    },
    {
     "data": {
      "text/plain": [
       "<Figure size 2400x900 with 0 Axes>"
      ]
     },
     "metadata": {},
     "output_type": "display_data"
    },
    {
     "data": {
      "text/plain": [
       "<Figure size 2400x900 with 0 Axes>"
      ]
     },
     "metadata": {},
     "output_type": "display_data"
    },
    {
     "data": {
      "text/plain": [
       "<Figure size 2400x900 with 0 Axes>"
      ]
     },
     "metadata": {},
     "output_type": "display_data"
    },
    {
     "data": {
      "text/plain": [
       "<Figure size 2400x900 with 0 Axes>"
      ]
     },
     "metadata": {},
     "output_type": "display_data"
    },
    {
     "data": {
      "text/plain": [
       "<Figure size 2400x900 with 0 Axes>"
      ]
     },
     "metadata": {},
     "output_type": "display_data"
    },
    {
     "data": {
      "text/plain": [
       "<Figure size 2400x900 with 0 Axes>"
      ]
     },
     "metadata": {},
     "output_type": "display_data"
    },
    {
     "data": {
      "text/plain": [
       "<Figure size 2400x900 with 0 Axes>"
      ]
     },
     "metadata": {},
     "output_type": "display_data"
    },
    {
     "data": {
      "text/plain": [
       "<Figure size 2400x900 with 0 Axes>"
      ]
     },
     "metadata": {},
     "output_type": "display_data"
    },
    {
     "data": {
      "text/plain": [
       "<Figure size 2400x900 with 0 Axes>"
      ]
     },
     "metadata": {},
     "output_type": "display_data"
    },
    {
     "data": {
      "text/plain": [
       "<Figure size 2400x900 with 0 Axes>"
      ]
     },
     "metadata": {},
     "output_type": "display_data"
    },
    {
     "data": {
      "text/plain": [
       "<Figure size 2400x900 with 0 Axes>"
      ]
     },
     "metadata": {},
     "output_type": "display_data"
    },
    {
     "data": {
      "text/plain": [
       "<Figure size 2400x900 with 0 Axes>"
      ]
     },
     "metadata": {},
     "output_type": "display_data"
    },
    {
     "data": {
      "text/plain": [
       "<Figure size 2400x900 with 0 Axes>"
      ]
     },
     "metadata": {},
     "output_type": "display_data"
    },
    {
     "data": {
      "text/plain": [
       "<Figure size 2400x900 with 0 Axes>"
      ]
     },
     "metadata": {},
     "output_type": "display_data"
    },
    {
     "data": {
      "text/plain": [
       "<Figure size 2400x900 with 0 Axes>"
      ]
     },
     "metadata": {},
     "output_type": "display_data"
    },
    {
     "data": {
      "text/plain": [
       "<Figure size 2400x900 with 0 Axes>"
      ]
     },
     "metadata": {},
     "output_type": "display_data"
    },
    {
     "data": {
      "text/plain": [
       "<Figure size 2400x900 with 0 Axes>"
      ]
     },
     "metadata": {},
     "output_type": "display_data"
    },
    {
     "data": {
      "text/plain": [
       "<Figure size 2400x900 with 0 Axes>"
      ]
     },
     "metadata": {},
     "output_type": "display_data"
    },
    {
     "data": {
      "text/plain": [
       "<Figure size 2400x900 with 0 Axes>"
      ]
     },
     "metadata": {},
     "output_type": "display_data"
    },
    {
     "data": {
      "text/plain": [
       "<Figure size 2400x900 with 0 Axes>"
      ]
     },
     "metadata": {},
     "output_type": "display_data"
    },
    {
     "data": {
      "text/plain": [
       "<Figure size 2400x900 with 0 Axes>"
      ]
     },
     "metadata": {},
     "output_type": "display_data"
    },
    {
     "data": {
      "text/plain": [
       "<Figure size 2400x900 with 0 Axes>"
      ]
     },
     "metadata": {},
     "output_type": "display_data"
    },
    {
     "data": {
      "text/plain": [
       "<Figure size 2400x900 with 0 Axes>"
      ]
     },
     "metadata": {},
     "output_type": "display_data"
    },
    {
     "data": {
      "image/png": "[encoded data removed]",
      "text/plain": [
       "<Figure size 2400x900 with 2 Axes>"
      ]
     },
     "metadata": {},
     "output_type": "display_data"
    }
   ],
   "source": [
    "plt.style.use('dark_background')\n",
    "\n",
    "fig = plt.figure(figsize=(6,6))\n",
    "\n",
    "a = len(correlation_heat_short)\n",
    "\n",
    "n = 0\n",
    "\n",
    "for i in range(200):\n",
    "    \n",
    "    plt.style.use('dark_background')\n",
    "\n",
    "\n",
    "    from mpl_toolkits.axes_grid1 import make_axes_locatable\n",
    "\n",
    "    fig = plt.figure(figsize=(8, 3))\n",
    "    ax1 = plt.subplot(1, 2, 1)\n",
    "    ax2 = plt.subplot(1, 2, 2)\n",
    "\n",
    "    frame = correlation_heat_short [i][1]\n",
    "    frame[frame <= 0] = .00000000000000001\n",
    "\n",
    "    masked_map = ma.masked_array(frame, mask=mask_heat,fill = 1)\n",
    "\n",
    "    masked_map = -(np.log(masked_map)/c) \n",
    "\n",
    "    im1 = ax1.imshow(masked_map,vmin = 1e-7,vmax = 1e-5,cmap = 'inferno_r')\n",
    "\n",
    "    cmap = plt.cm.gray_r\n",
    "    cmap.set_bad('white',1.)\n",
    "\n",
    "    divider = make_axes_locatable(ax1)\n",
    "    cax = divider.append_axes('right', size='5%', pad=0.05)\n",
    "    fig.colorbar(im1, cax=cax,format='%.0e', orientation='vertical')\n",
    "    # cax.tick_params(labelsize=15) \n",
    "    cax.set_title('$\\dot{\\epsilon}$',fontsize = 10)\n",
    "\n",
    "    ax1.set_xticks([]);\n",
    "    ax1.set_yticks([]);\n",
    "\n",
    "\n",
    "##################################################################################################\n",
    "\n",
    "\n",
    "    heat_def = -(np.log(test)/c) \n",
    "    ax2.plot(heat_def[0:100],'r',alpha =1)\n",
    "    ax2.plot(i+8,heat_def[i+8],'o',markersize = 10,markeredgecolor = 'k')\n",
    "\n",
    "    ax2.ticklabel_format(axis='y', style='sci', scilimits=(0,0))\n",
    "    ax2.set_ylabel(r'$ \\langle \\dot{\\epsilon} \\rangle$',fontsize = 8)\n",
    "    ax2.set_xlabel('time (s)',fontsize = 8)\n",
    "\n",
    "    fig.tight_layout()\n",
    "\n",
    "\n",
    "# plt.savefig('tapping_t_4000', bbox_inches='tight')\n",
    "\n",
    "\n",
    "    plt.savefig(\"/home/nakul/Documents/Geomorphology/CreepExperiment_videos/heat/heat\" + str(n) +\".png\", format=\"PNG\")\n",
    "    plt.clf()\n",
    "    n += 1"
   ]
  },
  {
   "cell_type": "code",
   "execution_count": null,
   "metadata": {},
   "outputs": [],
   "source": [
    "from mpl_toolkits.axes_grid1 import make_axes_locatable\n",
    "\n",
    "l = 3.3 * 100000\n",
    "c = ((8*np.pi)*(np.sqrt(2/5))*l)/633\n",
    "\n",
    "\n",
    "\n",
    "fig = plt.figure(figsize=(7, 3))\n",
    "\n",
    "ax1 = plt.subplot(1, 2, 1)\n",
    "ax2 = plt.subplot(1, 2, 2)\n",
    "#################################################################################################################\n",
    "frame = correlation_heat_dt[5][1]\n",
    "frame[frame <= 0] = 0.01\n",
    "masked_map = ma.masked_array(frame, mask=mask_heat)\n",
    "masked_map = -(np.log(masked_map)/c) \n",
    "\n",
    "im1 = ax1.imshow(masked_map,vmin = 1e-7,vmax = 1e-5,cmap = 'inferno')\n",
    "\n",
    "cmap = plt.cm.gray\n",
    "cmap.set_bad('white',1.)\n",
    "\n",
    "# divider = make_axes_locatable(ax1)\n",
    "# cax = divider.append_axes('right', size='5%', pad=0.05)\n",
    "# fig.colorbar(im1, cax=cax, orientation='vertical',format='%.0e')\n",
    "# # cax.tick_params(labelsize=15) \n",
    "# cax.set_title('$\\epsilon$',fontsize = 10)\n",
    "ax1.annotate('t = 0 s', xy=(5, 5), xytext=(100, 20),fontsize = 12)\n",
    "# ax1.set_title('t = 4 s')#,fontsize = 20);\n",
    "# ax1.set_xlim([30,175]);\n",
    "ax1.set_xticks([]);\n",
    "ax1.set_yticks([]);\n",
    "#################################################################################################################\n",
    "frame = correlation_heat_dt[200][1]\n",
    "frame[frame <= 0] = 0\n",
    "masked_map = ma.masked_array(frame, mask=mask_heat)\n",
    "masked_map = -(np.log(masked_map)/c) \n",
    "\n",
    "im2 = ax2.imshow(masked_map,vmin = 1e-7,vmax = 1e-5,cmap = 'inferno')\n",
    "\n",
    "cmap = plt.cm.gray\n",
    "cmap.set_bad('white',1.)\n",
    "\n",
    "divider = make_axes_locatable(ax2)\n",
    "cax = divider.append_axes('right', size='5%', pad=0.05)\n",
    "fig.colorbar(im2, cax=cax, orientation='vertical',format='%.0e')\n",
    "# cax.tick_params(labelsize=15) \n",
    "cax.set_title(r'$\\langle  \\dot{\\epsilon} \\rangle$',fontsize = 10)\n",
    "ax2.annotate('t = 200 s', xy=(5, 5), xytext=(120, 20),fontsize = 12)\n",
    "\n",
    "# ax2.set_title('t = 64 s')#,fontsize = 20);\n",
    "ax2.set_xticks([]);\n",
    "ax2.set_yticks([]);\n",
    "\n",
    "\n",
    "plt.subplots_adjust(hspace=.1, wspace=.1, bottom=2, left=.1, top=3)\n",
    "\n",
    "# # fit subplots and save fig\n",
    "# fig.set_size_inches(w=7,h=3)\n",
    "fig.tight_layout()\n",
    "fig_name = '/home/nakul/Documents/Python Scripts/DWS_Speckle_Analysis/iPython_notebooks/heat_panels.png'\n",
    "plt.savefig(fig_name, bbox_inches='tight')"
   ]
  },
  {
   "cell_type": "markdown",
   "metadata": {},
   "source": [
    "## Relaxation curves"
   ]
  },
  {
   "cell_type": "code",
   "execution_count": null,
   "metadata": {},
   "outputs": [],
   "source": [
    "def remove_outliers(x):\n",
    "    \"this function takes a correlation function and filters values.\"\n",
    "    \"at certain lag times, the mean drops to an anomalous value but is recovered at the subsequent lag time\"\n",
    "    \"if the difference between two subsequent timesteps\"\n",
    "    \"is greater than the difference between three timesteps, then we set the anomalous value to the previous value\"\n",
    "    for i in range(len(x)-2):\n",
    "        a = x[i]\n",
    "        b = x[i+1]\n",
    "        c = x[i+2]\n",
    "        d = abs(a-b)\n",
    "        e = abs(a-c)\n",
    "        if d > e:\n",
    "            x[i+1] = x[i]\n",
    "    return x"
   ]
  },
  {
   "cell_type": "markdown",
   "metadata": {},
   "source": [
    "### preparation"
   ]
  },
  {
   "cell_type": "code",
   "execution_count": null,
   "metadata": {},
   "outputs": [],
   "source": [
    "from matplotlib.pyplot import cm\n",
    "a = np.logspace(1, 13, num=13, base=2)\n",
    "labels = list(a)\n",
    "\n",
    "color=iter(cm.viridis(np.linspace(0,1,13)))\n",
    "time = np.arange(1,1001,1)\n",
    "\n",
    "fig = plt.figure(figsize=(3, 2))\n",
    "ax1 = plt.subplot(111)\n",
    "\n",
    "for t in range(13):\n",
    "    c=next(color)\n",
    "    corr = remove_outliers(means_heat_prep[t])\n",
    "    ax1.plot(time,means_heat_prep[t],'o',color = c,markersize = 3,alpha = 1,label = int(labels[t]))\n",
    "\n",
    "ax1.set_xscale('log')\n",
    "\n",
    "ax1.set_xlabel(r'$ \\tau $ (s)')\n",
    "ax1.set_ylabel(r'$ \\langle G \\rangle$')\n",
    "box = ax1.get_position()\n",
    "lgd = ax1.legend()\n",
    "ax1.set_position([box.x0, box.y0, box.width * 0.8, box.height])\n",
    "ax1.legend(title = 'time since preparation (s)',loc='center left', frameon = False, bbox_to_anchor=(1, 0.5))\n",
    "\n",
    "plt.tight_layout()\n",
    "\n",
    "# plt.savefig('correlation_preparation_heat.png', bbox_inches='tight')"
   ]
  },
  {
   "cell_type": "markdown",
   "metadata": {},
   "source": [
    "### Short - immediately after heat is removed"
   ]
  },
  {
   "cell_type": "code",
   "execution_count": null,
   "metadata": {},
   "outputs": [],
   "source": [
    "a = np.arange(0,250,10)\n",
    "# a = a*10\n",
    "labels = list(a)\n",
    "\n",
    "color=iter(cm.viridis(np.linspace(0,1,25)))\n",
    "time = np.arange(1,101,1)\n",
    "y = np.repeat((1/np.exp(1)),100)\n",
    "\n",
    "fig = plt.figure(figsize=(3, 2))\n",
    "ax1 = plt.subplot(111)\n",
    "\n",
    "for t in range(25):\n",
    "    c=next(color)\n",
    "    ax1.plot(time,means_heat_short[t],'o',color = c,markersize = 3,alpha = 1,label = int(labels[t]))\n",
    "\n",
    "ax1.plot(time,y,'k--')\n",
    "ax1.set_xscale('log')\n",
    "# ax1.set_yscale('log')\n",
    "ax1.set_xlim([0,1e6])\n",
    "\n",
    "ax1.set_xlabel(r'$ \\tau $ (s)')\n",
    "ax1.set_ylabel(r'$ \\langle G \\rangle$')\n",
    "# box = ax1.get_position()\n",
    "# lgd = ax1.legend()\n",
    "# ax1.set_position([box.x0, box.y0, box.width * 0.8, box.height])\n",
    "# ax1.legend(title = 'time since heat removed (s)',loc='center left', frameon = False, bbox_to_anchor=(1, 0.5))\n",
    "\n",
    "# plt.tight_layout()\n",
    "\n",
    "# plt.savefig('correlations_post_heat.png', bbox_inches='tight')"
   ]
  },
  {
   "cell_type": "code",
   "execution_count": null,
   "metadata": {},
   "outputs": [],
   "source": [
    "# ensuring that G goes from 0 to 1\n",
    "g = means_heat_short\n",
    "d = np.min(g)\n",
    "gp_prep = (g-d)/(1-d)"
   ]
  },
  {
   "cell_type": "markdown",
   "metadata": {},
   "source": [
    "#### efolding time"
   ]
  },
  {
   "cell_type": "code",
   "execution_count": null,
   "metadata": {},
   "outputs": [],
   "source": [
    "t_efold_heat_prep = []\n",
    "test = []\n",
    "\n",
    "for i in range(len(means_heat_prep)):\n",
    "    x = gp_prep[i]\n",
    "    y = np.where(x < 1/np.exp(1))[0]\n",
    "    t_efold_heat_prep.append(y[0])"
   ]
  },
  {
   "cell_type": "markdown",
   "metadata": {},
   "source": [
    "### Short times"
   ]
  },
  {
   "cell_type": "code",
   "execution_count": null,
   "metadata": {},
   "outputs": [],
   "source": [
    "t_efold_short = []\n",
    "test = []\n",
    "\n",
    "for i in range(len(means_heat_short)):\n",
    "    x = means_heat_short[i]\n",
    "    y = np.where(x < 1/np.exp(1))[0]\n",
    "    t_efold_short.append(y[0])"
   ]
  },
  {
   "cell_type": "code",
   "execution_count": null,
   "metadata": {},
   "outputs": [],
   "source": [
    "fig = plt.figure(figsize=(2, 2))\n",
    "t = np.arange(0,130,10)\n",
    "color=iter(cm.viridis(np.linspace(0,1,13)))\n",
    "\n",
    "for i in range(len(t_efold_short)):\n",
    "    plt.plot(t[i],t_efold_short[i],'ro',markeredgecolor = 'k',markersize = 5)\n",
    "\n",
    "# plt.title('relaxation timescale')\n",
    "plt.xlabel('t (s)',fontsize = 12)\n",
    "plt.ylabel(r'$\\tau_e$ (s)',fontsize = 12)\n",
    "plt.xscale('log')\n",
    "plt.yscale('log')\n",
    "# plt.xlim([1e-1,1e5])\n",
    "# plt.ylim([1e1,1e5])\n",
    "\n",
    "plt.tight_layout()\n",
    "\n",
    "\n",
    "plt.savefig('e_foldingtime_heat.png', bbox_inches='tight')"
   ]
  },
  {
   "cell_type": "markdown",
   "metadata": {},
   "source": [
    "## Time Series instantaneous creep"
   ]
  },
  {
   "cell_type": "code",
   "execution_count": 33,
   "metadata": {},
   "outputs": [
    {
     "data": {
      "text/plain": [
       "Text(0.5, 0, 'time (s)')"
      ]
     },
     "execution_count": 33,
     "metadata": {},
     "output_type": "execute_result"
    },
    {
     "data": {
      "image/png": "[encoded data removed]",
      "text/plain": [
       "<Figure size 1800x900 with 1 Axes>"
      ]
     },
     "metadata": {},
     "output_type": "display_data"
    }
   ],
   "source": [
    "l = 3.3 * 100000\n",
    "c = ((8*np.pi)*(np.sqrt(2/5))*l)/633\n",
    "\n",
    "\n",
    "fig = plt.figure(figsize=(6,3))\n",
    "\n",
    "test = []\n",
    "for i in range(len(means_heat_dt)):\n",
    "    test.append(means_heat_dt[i][1])\n",
    "    \n",
    "\n",
    "heat_def = -(np.log(test)/c) \n",
    "plt.plot(heat_def[0:200],'r',alpha =0.7)\n",
    "\n",
    "plt.ticklabel_format(axis='y', style='sci', scilimits=(0,0))\n",
    "plt.ylabel(r'$ \\langle \\dot{\\epsilon} \\rangle$',fontsize = 8)\n",
    "plt.xlabel('time (s)',fontsize = 8)\n",
    "\n",
    "# plt.savefig('heat_timeseries.png',bbox_inches='tight')\n"
   ]
  },
  {
   "cell_type": "markdown",
   "metadata": {},
   "source": [
    "# Combined map and time series "
   ]
  },
  {
   "cell_type": "code",
   "execution_count": null,
   "metadata": {
    "scrolled": false
   },
   "outputs": [],
   "source": [
    "from mpl_toolkits.axes_grid1 import make_axes_locatable\n",
    "\n",
    "l = 3.3 * 100000\n",
    "c = ((8*np.pi)*(np.sqrt(2/5))*l)/633\n",
    "\n",
    "def fmt(x, pos):\n",
    "    a, b = '{:.2e}'.format(x).split('e')\n",
    "    b = int(b)\n",
    "    return r'${} \\times 10^{{{}}}$'.format(a, b)\n",
    "\n",
    "fig = plt.figure(figsize=(3.5,2.5))\n",
    "\n",
    "\n",
    "#################################################################################################################\n",
    "ax1 = plt.subplot2grid((2,2), (0, 0), colspan=1,rowspan = 1)\n",
    "\n",
    "\n",
    "frame = correlation_heat_dt[5][1]\n",
    "frame[frame <= 0] = 0.01\n",
    "masked_map = ma.masked_array(frame, mask=mask_heat)\n",
    "masked_map = -(np.log(masked_map)/c) \n",
    "\n",
    "im1 = ax1.imshow(masked_map,vmin = 1e-7,vmax = 1e-5,cmap = 'gray_r')\n",
    "\n",
    "cmap = plt.cm.gray\n",
    "cmap.set_bad('white',1.)\n",
    "\n",
    "\n",
    "ax1.set_title('t = 0 s')\n",
    "\n",
    "ax1.set_xticks([]);\n",
    "ax1.set_yticks([]);\n",
    "#################################################################################################################\n",
    "ax2 = plt.subplot2grid((2,2), (0, 1), colspan=1,rowspan = 1)\n",
    "\n",
    "frame = correlation_heat_dt[200][1]\n",
    "frame[frame <= 0] = 0\n",
    "masked_map = ma.masked_array(frame, mask=mask_heat)\n",
    "masked_map = -(np.log(masked_map)/c) \n",
    "\n",
    "im2 = ax2.imshow(masked_map,vmin = 1e-7,vmax = 1e-5,cmap = 'gray_r')\n",
    "\n",
    "cmap = plt.cm.gray\n",
    "cmap.set_bad('white',1.)\n",
    "\n",
    "# divider = make_axes_locatable(ax2)\n",
    "# cax = divider.append_axes('right', size='5%', pad=0.05)\n",
    "# fig.colorbar(im2, cax=cax, orientation='vertical',format=ticker.FuncFormatter(fmt))\n",
    "# cax.set_title(r'$\\langle  \\dot{\\epsilon} \\rangle$',fontsize = 10)\n",
    "ax2.set_title('t = 200 s')\n",
    "\n",
    "ax2.set_xticks([]);\n",
    "ax2.set_yticks([]);\n",
    "\n",
    "################################################################################################################\n",
    "ax3 = plt.subplot2grid((2,2), (1, 0), colspan=2,rowspan = 2)\n",
    "\n",
    "\n",
    "ax3.plot(heat_def[3:203],'r',alpha = 0.7)\n",
    "ax3.ticklabel_format(axis='y', style='sci', scilimits=(0,0))\n",
    "ax3.set_ylabel(r'$ \\langle \\dot{\\epsilon} \\rangle$ [$s^{-1}$]')#,rotation = 'horizontal')\n",
    "ax3.set_xlabel('time (s)')\n",
    "################################################################################################################\n",
    "left, bottom, width, height = [0.6, 0.25, 0.20, 0.2]\n",
    "\n",
    "ax4 = fig.add_axes([left, bottom, width, height])\n",
    "\n",
    "time_short = np.arange (0,250,10)\n",
    "\n",
    "for i in range(len(t_efold_short)):\n",
    "    ax4.plot(time_short[i],t_efold_short[i],'ro',markeredgecolor = 'k',markersize = 5)\n",
    "    \n",
    "ax4.set_yscale('log')\n",
    "ax4.set_xscale('log')\n",
    "ax4.tick_params(axis='both', which='major', labelsize=7)\n",
    "ax4.xaxis.set_ticks([1,10,100,1000])\n",
    "ax4.yaxis.set_ticks([1,10,100])\n",
    "ax4.set_ylim([1,200])\n",
    "ax4.set_xlabel('t (s)')\n",
    "ax4.set_ylabel(r'$\\tau_e$ (s)',rotation = 'horizontal')\n",
    "ax4.yaxis.set_label_coords(-0.6, .5)\n",
    "ax4.xaxis.set_label_coords(1.3, 0)\n",
    "################################################################################################################\n",
    "\n",
    "\n",
    "\n",
    "# plt.subplots_adjust(hspace=.1, wspace=.1, bottom=2, left=.1, top=3)\n",
    "\n",
    "# # # fit subplots and save fig\n",
    "# # fig.set_size_inches(w=7,h=3)\n",
    "# fig.tight_layout()\n",
    "fig_name = '/home/nakul/Documents/Python Scripts/DWS_Speckle_Analysis/iPython_notebooks/heat_panels.pdf'\n",
    "plt.savefig(fig_name, bbox_inches='tight')"
   ]
  },
  {
   "cell_type": "code",
   "execution_count": null,
   "metadata": {},
   "outputs": [],
   "source": [
    "import matplotlib.patheffects as pe\n",
    "from matplotlib.pyplot import cm\n",
    "\n",
    "fig = plt.figure(figsize=(7,2))\n",
    "ax1 = plt.subplot(111)\n",
    "################################################################################################################\n",
    "ax1.plot(heat_def[3:203],'r',alpha = 0.7)\n",
    "ax1.ticklabel_format(axis='y', style='sci', scilimits=(0,0))\n",
    "ax1.set_ylabel(r'$ \\langle \\dot{\\epsilon} \\rangle$')\n",
    "ax1.set_xlabel('time (s)')\n",
    "################################################################################################################\n",
    "left, bottom, width, height = [0.65, 0.3, 0.20, 0.5]\n",
    "\n",
    "ax2 = fig.add_axes([left, bottom, width, height])\n",
    "\n",
    "time_short = np.arange (0,250,10)\n",
    "\n",
    "for i in range(len(t_efold_short)):\n",
    "    ax2.plot(time_short[i],t_efold_short[i],'ro',markeredgecolor = 'k',markersize = 5)\n",
    "    \n",
    "ax2.set_yscale('log')\n",
    "ax2.set_xscale('log')\n",
    "ax2.tick_params(axis='both', which='major', labelsize=7)\n",
    "ax2.xaxis.set_ticks([1,10,100,1000])\n",
    "ax2.yaxis.set_ticks([1,10,100])\n",
    "ax2.set_ylim([1,200])\n",
    "ax2.set_xlabel('t (s)')\n",
    "ax2.set_ylabel(r'$\\tau_e$ (s)')\n",
    "################################################################################################################\n",
    "\n",
    "# plt.tight_layout()\n",
    "# plt.savefig('heat.png', bbox_inches='tight')"
   ]
  },
  {
   "cell_type": "code",
   "execution_count": null,
   "metadata": {},
   "outputs": [],
   "source": [
    "import matplotlib.patheffects as pe\n",
    "from matplotlib.pyplot import cm\n",
    "\n",
    "#(figsize=(3.5,6))\n",
    "fig = plt.figure(figsize=(6,4.5))\n",
    "ax1 = plt.subplot(211)\n",
    "\n",
    "ax1.plot(heat_def,'r',alpha = 0.7)\n",
    "ax1.ticklabel_format(axis='y', style='sci', scilimits=(0,0))\n",
    "ax1.set_ylabel(r'$\\dot{\\epsilon }$',fontsize = 7)\n",
    "ax1.set_xlabel('time (s)',fontsize = 7)\n",
    "\n",
    "################################################################################################################\n",
    "left, bottom, width, height = [0.65, 0.65, 0.20, 0.20]\n",
    "ax2 = fig.add_axes([left, bottom, width, height])\n",
    "\n",
    "time_short = np.arange (0,250,10)\n",
    "\n",
    "# t = (np.logspace(1, 13, num=13, base=2))\n",
    "color=iter(cm.inferno(np.linspace(0,1,13)))\n",
    "\n",
    "for i in range(len(t_efold_short)):\n",
    "    c=next(color)\n",
    "    ax2.plot(time_short[i],t_efold_short[i],'ro',markeredgecolor = 'k',color = c,markersize = 5)\n",
    "    \n",
    "ax2.yaxis.set_ticks([0,25,50])\n",
    "ax2.tick_params(axis='both', which='major', labelsize=7)\n",
    "ax2.yaxis.set_label_coords(-0.025,1.05)\n",
    "\n",
    "ax2.set_xlabel('time since heating (s)')\n",
    "ax2.set_ylabel('decay time (s)',rotation = 'horizontal')\n",
    "################################################################################################################\n",
    "left, bottom, width, height = [0.35, 0.65, 0.20, 0.20]\n",
    "ax3 = fig.add_axes([left, bottom, width, height])\n",
    "\n",
    "color=iter(cm.inferno(np.linspace(0,1,12)))\n",
    "time = np.arange(1,101,1)\n",
    "\n",
    "for t in range(len(t_efold_short)):\n",
    "    c=next(color)\n",
    "    ax3.plot(time,means_heat_short[t],'o',color = c,markersize = 3.5,alpha = 1)#,label = int(labels[t]))\n",
    "\n",
    "ax3.set_xscale('log')\n",
    "# ax3.set_yscale('log')\n",
    "# ax1.set_xlim([0,1e6])\n",
    "\n",
    "ax3.set_xlabel('lag (s)')\n",
    "ax3.set_ylabel('G',rotation = 'horizontal')\n",
    "ax3.yaxis.set_label_coords(-0.025,1.05)\n",
    "\n",
    "plt.tight_layout()\n",
    "\n",
    "\n",
    "# plt.savefig('/home/nakul/Documents/Python Scripts/DWS_Speckle_Analysis/iPython_notebooks/heat_timeseries.png', bbox_inches='tight')"
   ]
  },
  {
   "cell_type": "code",
   "execution_count": null,
   "metadata": {},
   "outputs": [],
   "source": [
    "color=iter(cm.viridis(np.linspace(0,1,12)))\n",
    "time = np.arange(1,101,1)\n",
    "\n",
    "for t in range(len(t_efold_short)):\n",
    "    c=next(color)\n",
    "    plt.plot(time,means_heat_short[t],'o',color = c,markersize = 3.5,alpha = 0.7)#,label = int(labels[t]))\n",
    "\n",
    "ax3.set_xscale('log')\n",
    "# ax3.set_yscale('log')\n",
    "# ax1.set_xlim([0,1e6])\n",
    "\n",
    "ax3.set_xlabel('lag (s)')\n",
    "ax3.set_ylabel('G',rotation = 'horizontal')\n",
    "ax3.yaxis.set_label_coords(-0.025,1.05)"
   ]
  },
  {
   "cell_type": "code",
   "execution_count": null,
   "metadata": {},
   "outputs": [],
   "source": [
    "from mpl_toolkits.axes_grid1 import make_axes_locatable\n",
    "\n",
    "fig = plt.figure(figsize=(8, 3))\n",
    "\n",
    "# fig.suptitle('t 9000 -> 9100')\n",
    "\n",
    "\n",
    "ax1 = plt.subplot2grid((3, 3), (0, 0), colspan=1,rowspan = 2)\n",
    "\n",
    "ax1.plot(heat_def,'r')\n",
    "\n",
    "ax1.set_xlabel('$\\epsilon$')\n",
    "ax1.set_ylabel('z (m)')\n",
    "# ax1.set_xlim([-1e-4,1e-5])\n",
    "ax1.ticklabel_format(axis='x', style='sci', scilimits=(0,0))\n",
    "\n",
    "\n",
    "# plt.xscale('log')\n",
    "# plt.yscale('log')\n",
    "\n",
    "\n",
    "####################################################################################################################\n",
    "ax2 = plt.subplot2grid((3, 3), (0, 1), rowspan=1,colspan = 1)\n",
    "\n",
    "frame = correlation_heat_dt[5][1]\n",
    "frame[frame <= 0] = 1e-32\n",
    "masked_map = ma.masked_array(frame, mask=mask_heat)\n",
    "masked_map = -(np.log(masked_map)/c) \n",
    "\n",
    "im2 = ax2.imshow(masked_map,vmin = 1e-7,vmax = 1e-5,cmap = 'gray_r')\n",
    "\n",
    "\n",
    "divider = make_axes_locatable(ax2)\n",
    "cax = divider.append_axes('right', size='5%', pad=0.05)\n",
    "fig.colorbar(im2, cax=cax, orientation='vertical',format='%.0e')\n",
    "cax.set_title('$\\epsilon$')\n",
    "\n",
    "ax2.set_title('t = 1')\n",
    "ax2.set_xticks([])\n",
    "ax2.set_yticks([])\n",
    "####################################################################################################################\n",
    "ax3 = plt.subplot2grid((3, 3), (0, 2), rowspan=1,colspan = 1)\n",
    "\n",
    "frame = correlation_heat_dt[100][1]\n",
    "frame[frame <= 0] = 1e-32\n",
    "masked_map = ma.masked_array(frame, mask=mask_heat)\n",
    "masked_map = -(np.log(masked_map)/c) \n",
    "\n",
    "im3 = ax3.imshow(masked_map,vmin = 1e-7,vmax = 1e-5,cmap = 'gray_r')\n",
    "\n",
    "divider = make_axes_locatable(ax3)\n",
    "cax = divider.append_axes('right', size='5%', pad=0.05)\n",
    "fig.colorbar(im3, cax=cax, orientation='vertical',format='%.0e')\n",
    "cax.set_title('$\\epsilon$')\n",
    "\n",
    "ax3.set_title('t = 3')\n",
    "ax3.set_xticks([])\n",
    "ax3.set_yticks([])\n",
    "####################################################################################################################\n",
    "ax4 = plt.subplot2grid((3, 3), (1, 1), rowspan=1,colspan = 1)\n",
    "\n",
    "frame = correlation_heat_dt[200][1]\n",
    "frame[frame <= 0] = 1e-32\n",
    "masked_map = ma.masked_array(frame, mask=mask_heat)\n",
    "masked_map = -(np.log(masked_map)/c) \n",
    "\n",
    "im4 = ax4.imshow(masked_map,vmin = 1e-7,vmax = 1e-5,cmap = 'gray_r')\n",
    "\n",
    "\n",
    "divider = make_axes_locatable(ax4)\n",
    "cax = divider.append_axes('right', size='5%', pad=0.05)\n",
    "fig.colorbar(im4, cax=cax, orientation='vertical',format='%.0e')\n",
    "cax.set_title('$\\epsilon$')\n",
    "\n",
    "ax4.set_title('t = 20')\n",
    "ax4.set_xticks([])\n",
    "ax4.set_yticks([])\n",
    "####################################################################################################################\n",
    "\n",
    "ax5 = plt.subplot2grid((3, 3), (1, 2), rowspan=1,colspan = 1)\n",
    "frame = correlation_heat_dt[300][1]\n",
    "frame[frame <= 0] = 1e-32\n",
    "masked_map = ma.masked_array(frame, mask=mask_heat)\n",
    "masked_map = -(np.log(masked_map)/c) \n",
    "\n",
    "im5 = ax5.imshow(masked_map,vmin = 1e-7,vmax = 1e-5,cmap = 'gray_r')\n",
    "\n",
    "divider = make_axes_locatable(ax5)\n",
    "cax = divider.append_axes('right', size='5%', pad=0.05)\n",
    "fig.colorbar(im5, cax=cax, orientation='vertical',format='%.0e')\n",
    "cax.set_title('$\\epsilon$')\n",
    "\n",
    "ax5.set_title('t = 90')\n",
    "ax5.set_xticks([])\n",
    "ax5.set_yticks([])\n",
    "\n",
    "plt.subplots_adjust(hspace=.1, wspace=.1, bottom=2, left=.1, top=3)\n",
    "\n",
    "# plt.tight_layout()\n",
    "\n",
    "# plt.savefig('ensemble_test.png', bbox_inches='tight')"
   ]
  },
  {
   "cell_type": "code",
   "execution_count": null,
   "metadata": {},
   "outputs": [],
   "source": [
    "import matplotlib.patheffects as pe\n",
    "from matplotlib.pyplot import cm\n",
    "\n",
    "#(figsize=(3.5,6))\n",
    "fig = plt.figure(figsize=(6,3))\n",
    "ax1 = plt.subplot(211)\n",
    "\n",
    "ax1.plot(heat_def,'r',alpha = 0.7)\n",
    "ax1.ticklabel_format(axis='y', style='sci', scilimits=(0,0))\n",
    "ax1.set_ylabel(r'$\\dot{\\epsilon }$',fontsize = 7)\n",
    "################################################################################################################\n",
    "left, bottom, width, height = [0.5, 0.7, 0.30, 0.20]\n",
    "ax2 = fig.add_axes([left, bottom, width, height])\n",
    "\n",
    "time_short = np.arange (0,250,10)\n",
    "\n",
    "# t = (np.logspace(1, 13, num=13, base=2))\n",
    "color=iter(cm.viridis(np.linspace(0,1,13)))\n",
    "\n",
    "for i in range(len(t_efold_short)):\n",
    "    c=next(color)\n",
    "    ax2.plot(time_short[i],t_efold_short[i],'o',markeredgecolor = 'k',color = c,markersize = 5)\n",
    "    \n",
    "ax2.yaxis.set_ticks([0,25,50])\n",
    "ax2.tick_params(axis='both', which='major', labelsize=7)\n",
    "ax2.yaxis.set_label_coords(-0.025,1.05)\n",
    "\n",
    "ax2.set_xlabel('start time (s)')\n",
    "ax2.set_ylabel('decay time (s)',rotation = 'horizontal')\n",
    "##############################################################################################################\n",
    "ax3 = plt.subplot(212)\n",
    "ax3.plot(tap_def[10:5010],color='b',alpha = 0.5)\n",
    "ax3.plot(smoothed_taps[10:5010],color='k')\n",
    "\n",
    "# ax3.plot(a[10:510],'k')\n",
    "ax3.set_xlabel('time (s)')\n",
    "ax3.ticklabel_format(axis='y', style='sci', scilimits=(0,0))\n",
    "ax3.set_ylabel(r'$\\dot{\\epsilon }$',fontsize = 7)\n",
    "\n",
    "plt.tight_layout()\n",
    "# plt.savefig('disturbance_timeseries.png')"
   ]
  },
  {
   "cell_type": "markdown",
   "metadata": {},
   "source": [
    "## Multicycle Heating"
   ]
  },
  {
   "cell_type": "code",
   "execution_count": null,
   "metadata": {},
   "outputs": [],
   "source": [
    "heat_multicycle = np.load('/home/ndeshpande/Documents/Python Scripts/DWS_Speckle_Analysis/outputs/2019/heat_multicycle.npz')\n",
    "# correlation_heat_multicycle = heat_multicycle ['data1']\n",
    "means_heat_multicycle = heat_multicycle ['data2']"
   ]
  },
  {
   "cell_type": "code",
   "execution_count": null,
   "metadata": {},
   "outputs": [],
   "source": [
    "l = 3.3 * 100000\n",
    "c = ((8*np.pi)*(np.sqrt(2/5))*l)/633\n",
    "\n",
    "heat_multicycle = []\n",
    "\n",
    "for i in range(len(means_heat_multicycle)):\n",
    "    heat_multicycle.append(-(np.log(means_heat_multicycle[i][1])/c) )"
   ]
  },
  {
   "cell_type": "markdown",
   "metadata": {},
   "source": [
    "# Multicycle comparison"
   ]
  },
  {
   "cell_type": "code",
   "execution_count": null,
   "metadata": {},
   "outputs": [],
   "source": [
    "undisturbed_multicycle = np.load('/home/ndeshpande/Documents/Python Scripts/DWS_Speckle_Analysis/outputs/2019/purecreep_C.npz')\n",
    "# correlation_undisturbed_multicycle = undisturbed_multicycle ['data1']\n",
    "means_undisturbed_multicycle = undisturbed_multicycle ['data2']"
   ]
  },
  {
   "cell_type": "code",
   "execution_count": null,
   "metadata": {},
   "outputs": [],
   "source": [
    "l = 3.3 * 100000\n",
    "c = ((8*np.pi)*(np.sqrt(2/5))*l)/633\n",
    "\n",
    "undisturbed_multicycle = []\n",
    "\n",
    "for i in range(len(means_undisturbed_multicycle)):\n",
    "    undisturbed_multicycle.append(-(np.log(means_undisturbed_multicycle[i][1])/c) )"
   ]
  },
  {
   "cell_type": "code",
   "execution_count": null,
   "metadata": {},
   "outputs": [],
   "source": [
    "fig = plt.figure(figsize=(8, 2))\n",
    "\n",
    "mean_heat = np.mean(heat_multicycle[261:1600])\n",
    "mean_heat = np.repeat(mean_heat,1600-261)\n",
    "\n",
    "time = np.arange(0,1600-261,1)\n",
    "\n",
    "# plt.plot(undisturbed_multicycle[0:1500])\n",
    "# plt.plot(tapping_multicycle[0:1700],'k',alpha = 0.5,label = 'tapping')\n",
    "plt.plot(heat_multicycle[261:1600],'r',alpha = 0.5,label = 'heating')\n",
    "plt.plot(time,mean_heat,'k--',alpha = 0.7)\n",
    "\n",
    "\n",
    "# plt.yscale('log')\n",
    "# plt.ylim([1e-7,1e-2])\n",
    "plt.ticklabel_format(axis='y', style='sci', scilimits=(0,0))\n",
    "plt.ylabel(r'$ \\langle \\dot{\\epsilon} \\rangle$',fontsize = 12)\n",
    "plt.xlabel('time (s)')\n",
    "\n",
    "# plt.tight_layout()\n",
    "plt.savefig('heat_cycles.png', bbox_inches='tight')"
   ]
  },
  {
   "cell_type": "markdown",
   "metadata": {},
   "source": [
    "# Ensemble timeseries"
   ]
  },
  {
   "cell_type": "code",
   "execution_count": null,
   "metadata": {},
   "outputs": [],
   "source": [
    "import matplotlib.patheffects as pe\n",
    "from matplotlib.pyplot import cm\n",
    "\n",
    "fig = plt.figure(figsize=(7,2))\n",
    "ax1 = plt.subplot(121)\n",
    "################################################################################################################\n",
    "ax1.plot(heat_def[3:203],'r',alpha = 0.7)\n",
    "ax1.ticklabel_format(axis='y', style='sci', scilimits=(0,0))\n",
    "ax1.set_ylabel(r'$ \\langle \\dot{\\epsilon} \\rangle$')\n",
    "ax1.set_xlabel('time (s)')\n",
    "################################################################################################################\n",
    "left, bottom, width, height = [0.6, 0.65, 0.20, 0.20]\n",
    "ax2 = fig.add_axes([left, bottom, width, height])\n",
    "\n",
    "time_short = np.arange (0,250,10)\n",
    "\n",
    "for i in range(len(t_efold_short)):\n",
    "    ax2.plot(time_short[i],t_efold_short[i],'ro',markeredgecolor = 'k',markersize = 5)\n",
    "    \n",
    "ax2.set_yscale('log')\n",
    "ax2.set_xscale('log')\n",
    "ax2.tick_params(axis='both', which='major', labelsize=7)\n",
    "ax2.xaxis.set_ticks([1,10,100,1000])\n",
    "ax2.yaxis.set_ticks([1,10,100])\n",
    "ax2.set_ylim([1,200])\n",
    "ax2.set_xlabel('t (s)')\n",
    "ax2.set_ylabel(r'$\\tau_e$ (s)')\n",
    "################################################################################################################\n",
    "ax3 = plt.subplot(122)\n",
    "\n",
    "tap_def = -(np.log(test)/c) \n",
    "ax3.plot(tap_def[10:5010],'b',alpha =0.3)\n",
    "ax3.plot(smoothed_taps[10:5010],'-k')\n",
    "ax3.set_xlabel('tap number')\n",
    "# plt.ticklabel_format(axis='y', style='sci', scilimits=(0,0))\n",
    "# ax3.set_ylabel(r'$ \\langle \\dot{\\epsilon} \\rangle$')\n",
    "\n",
    "plt.tight_layout()\n",
    "# plt.savefig('ensemble_disturbance_timeseries.png', bbox_inches='tight')"
   ]
  },
  {
   "cell_type": "markdown",
   "metadata": {},
   "source": [
    "# Ensemble Disturbance maps"
   ]
  },
  {
   "cell_type": "code",
   "execution_count": null,
   "metadata": {},
   "outputs": [],
   "source": [
    "fig = plt.figure(figsize=(4, 4))\n",
    "ax1 = plt.subplot(1, 2, 1)\n",
    "ax2 = plt.subplot(1, 2, 2)\n",
    "\n",
    "# fig.suptitle('heating test - 10 cycles')\n",
    "#################################################################################################################\n",
    "heat = correlation_heat_cycles[t][1]\n",
    "heat[heat <= 0] = 1e-32\n",
    "heat_mask = ma.masked_array(heat, mask=mask_heating_cycles)\n",
    "heat_mask = -(np.log(heat_mask)/c) \n",
    "\n",
    "im1 = ax1.imshow(heat_mask,cmap = 'gray_r',vmin = 1e-7, vmax = 1e-4)\n",
    "ax1.set_title('heating',fontsize = 4)\n",
    "ax1.set_xticks([])\n",
    "ax1.set_yticks([])\n",
    "\n",
    "divider = make_axes_locatable(ax1)\n",
    "cax = divider.append_axes('right', size='5%', pad=0.05)\n",
    "fig.colorbar(im1, cax=cax, orientation='vertical',format='%.0e')\n",
    "cax.set_title('$\\epsilon$')\n",
    "\n",
    "#################################################################################################################\n",
    "tap = correlation_tapping_cycles[t][1]\n",
    "tap[tap <= 0] = 1e-32\n",
    "tap_mask = ma.masked_array(tap, mask=mask_tapping_cycles)\n",
    "tap_mask = -(np.log(tap_mask)/c) \n",
    "\n",
    "im2 = ax2.imshow(tap_mask,vmin = 1e-7, vmax = 1e-4, cmap = 'gray_r')\n",
    "ax2.set_title('tapping',fontsize = 4)\n",
    "ax2.set_xticks([])\n",
    "ax2.set_yticks([])\n",
    "\n",
    "divider = make_axes_locatable(ax2)\n",
    "cax = divider.append_axes('right', size='5%', pad=0.05)\n",
    "fig.colorbar(im2, cax=cax, orientation='vertical',format='%.0e')\n",
    "cax.set_title('$\\epsilon$')\n",
    "\n",
    "\n",
    "plt.tight_layout()\n",
    "\n",
    "# plt.savefig('heating_tapping.png')"
   ]
  },
  {
   "cell_type": "markdown",
   "metadata": {},
   "source": [
    "## Disturbance Time Series"
   ]
  },
  {
   "cell_type": "code",
   "execution_count": null,
   "metadata": {},
   "outputs": [],
   "source": [
    "fig = plt.figure(figsize=(5, 3))\n",
    "time = np.arange(0,3000,.5)\n",
    "\n",
    "# ax1 = plt.subplot(3, 1, 1)\n",
    "# ax1.plot(time,undisturbed_def[:6000],'k',linewidth = 1,alpha = 0.5, label = 'undisturbed')\n",
    "# ax1.set_yscale('log')\n",
    "# ax1.set_xlim([0,1000])\n",
    "\n",
    "ax2 = plt.subplot(3, 1, 2)\n",
    "ax2.plot(heat_def[0:500],'r',linewidth = 1,alpha = 1,label = 'heating')\n",
    "ax2.set_yscale('log')\n",
    "ax2.set_xlim([0,1000])\n",
    "\n",
    "\n",
    "ax3 = plt.subplot(3, 1, 3)\n",
    "ax3.plot(tap_def[30:6030],'b',linewidth = 1,alpha = 1,label = 'tapping')\n",
    "ax3.set_yscale('log')\n",
    "ax3.set_xlim([0,1000])\n",
    "\n",
    "plt.tight_layout()\n",
    "\n",
    "# plt.savefig('disturbances_test.png')"
   ]
  },
  {
   "cell_type": "markdown",
   "metadata": {},
   "source": [
    "## Ensemble multicycle disturbance movies"
   ]
  },
  {
   "cell_type": "code",
   "execution_count": null,
   "metadata": {},
   "outputs": [],
   "source": [
    "n = 0\n",
    "fig = plt.figure(figsize=(4, 4))\n",
    "ax1 = plt.subplot(2, 1, 1)\n",
    "ax2 = plt.subplot(2, 1, 2)\n",
    "\n",
    "\n",
    "for t in range(160):\n",
    "    ax1 = plt.subplot(2, 1, 1)\n",
    "    ax2 = plt.subplot(2, 1, 2)\n",
    "\n",
    "    #################################################################################################################\n",
    "    heat = correlation_heat_cycles[t][1]\n",
    "    heat[heat <= 0] = 1e-32\n",
    "    heat_mask = ma.masked_array(heat, mask=mask_heating_cycles)\n",
    "    heat_mask = -(np.log(heat_mask)/c) \n",
    "\n",
    "    im1 = ax1.imshow(heat_mask,vmin = 1e-7, vmax = 1e-4, cmap = 'gray_r')\n",
    "    ax1.set_title('heating',fontsize = 4)\n",
    "    ax1.set_xticks([])\n",
    "    ax1.set_yticks([])\n",
    "\n",
    "    divider = make_axes_locatable(ax1)\n",
    "    cax = divider.append_axes('right', size='5%', pad=0.05)\n",
    "    fig.colorbar(im1, cax=cax, orientation='vertical',format='%.0e')\n",
    "    cax.set_title('$\\epsilon$')\n",
    "\n",
    "    #################################################################################################################\n",
    "    tap = correlation_tapping_cycles[t][1]\n",
    "    tap[tap <= 0] = 1e-32\n",
    "    tap_mask = ma.masked_array(tap, mask=mask_tapping_cycles)\n",
    "    tap_mask = -(np.log(tap_mask)/c) \n",
    "\n",
    "    im2 = ax2.imshow(tap_mask,vmin = 1e-7, vmax = 1e-5, cmap = 'gray_r')\n",
    "    ax2.set_title('tapping',fontsize = 4)\n",
    "    ax2.set_xticks([])\n",
    "    ax2.set_yticks([])\n",
    "\n",
    "    divider = make_axes_locatable(ax2)\n",
    "    cax = divider.append_axes('right', size='5%', pad=0.05)\n",
    "    fig.colorbar(im2, cax=cax, orientation='vertical',format='%.0e')\n",
    "    cax.set_title('$\\epsilon$')\n",
    "\n",
    "\n",
    "    plt.tight_layout()\n",
    "    \n",
    "    plt.savefig(\"ensmble_test\" + str(n) +\".png\", format=\"PNG\")\n",
    "    plt.clf()\n",
    "    n += 1"
   ]
  },
  {
   "cell_type": "code",
   "execution_count": null,
   "metadata": {},
   "outputs": [],
   "source": [
    "# mpl.rc('text', usetex = True)\n",
    "# mpl.rc('font', family = 'serif')\n",
    "fig = plt.figure(figsize=(6, 4))\n",
    "\n",
    "#############################################################################################################\n",
    "ax1 = plt.subplot2grid((2, 3), (1, 0), rowspan=1,colspan = 3)\n",
    "\n",
    "\n",
    "ax1.plot(heat_def[10:3500],'r',linewidth = 1)\n",
    "ax1.plot(tap_def[10:3500],'b',linewidth = 1)\n",
    "ax1.set_xlabel('time (seconds)')\n",
    "ax1.set_ylabel(r'$\\dot{\\epsilon }$',fontsize = 12)\n",
    "ax1.ticklabel_format(axis='y', style='sci', scilimits=(0,0))\n",
    "ax1.set_ylim(0,0.0004)\n",
    "ax1.set_xlim(-10,3500)\n",
    "\n",
    "\n",
    "# ax1.set_yscale('log')\n",
    "# ax1.set_ylim([1e-7,1e-3])\n",
    "#############################################################################################################\n",
    "ax2 = plt.subplot2grid((2, 3), (0, 2), rowspan=1,colspan = 1)\n",
    "\n",
    "# labels = list(time)\n",
    "# labels = list(np.logspace(1, 13, num=13, base=2))\n",
    "labels = np.arange (0,300,5)\n",
    "\n",
    "# t = np.arange(0,10,.1)\n",
    "\n",
    "color=iter(cm.viridis(np.linspace(0,1,60)))\n",
    "\n",
    "for t in range(60):\n",
    "    c=next(color)\n",
    "    ax2.plot(means_heat_single_cycle_response[t],'-',color = c,linewidth = 1)#,label = int(labels[t]))\n",
    "\n",
    "ax2.set_title('heating')\n",
    "ax2.set_xscale('log')\n",
    "ax2.set_xlabel(r'$\\tau$')\n",
    "ax2.set_yticks([]);\n",
    "\n",
    "\n",
    "# box = ax2.get_position()\n",
    "# lgd = ax2.legend()\n",
    "# ax2.set_position([box.x0, box.y0, box.width * 0.8, box.height])\n",
    "# ax2.legend(title = 'start time',loc='center left', frameon = False, bbox_to_anchor=(1, 0.5))\n",
    "#############################################################################################################\n",
    "ax3 = plt.subplot2grid((2,3), (0,1), colspan=1,rowspan = 1)\n",
    "\n",
    "# labels = list(time)\n",
    "labels = list(np.logspace(1, 13, num=13, base=2))\n",
    "color=iter(cm.viridis(np.linspace(0,1,13)))\n",
    "\n",
    "for t in range(13):\n",
    "    c=next(color)\n",
    "    ax3.plot(means_tap_single_cycle_response[t],'-',color = c,linewidth = 1)\n",
    "\n",
    "ax3.set_title('tapping')\n",
    "ax3.set_yticks([]);\n",
    "ax3.set_xscale('log')\n",
    "# ax3.set_yscale('log')\n",
    "ax3.set_xlabel(r'$\\tau$')\n",
    "\n",
    "# ax3.set_ylim([0,1.1])\n",
    "\n",
    "\n",
    "# box = ax1.get_position()\n",
    "# lgd = ax1.legend()\n",
    "# ax1.set_position([box.x0, box.y0, box.width * 0.8, box.height])\n",
    "# ax1.legend(title = 'start time',loc='center left', frameon = False, bbox_to_anchor=(1, 0.5))\n",
    "#############################################################################################################\n",
    "ax4 = plt.subplot2grid((2,3), (0,0), colspan=1,rowspan = 1)\n",
    "\n",
    "# labels = list(time)\n",
    "# labels = list(np.logspace(1, 13, num=13, base=2))\n",
    "\n",
    "# t = np.arange(0,10,.1)\n",
    "\n",
    "color=iter(cm.viridis(np.linspace(0,1,13)))\n",
    "\n",
    "for t in range(13):\n",
    "    c=next(color)\n",
    "    ax4.plot(means_undisturbed[t],color = c,linewidth = 1)#,label = int(labels[t]))\n",
    "\n",
    "ax4.set_title('undisturbed')\n",
    "ax4.set_xscale('log')\n",
    "ax4.set_xlabel(r'$\\tau$')\n",
    "# ax4.set_yticks([]);\n",
    "ax4.set_ylabel('G')\n",
    "\n",
    "\n",
    "fig.tight_layout()\n",
    "\n",
    "# # fit subplots and save fig\n",
    "fig.tight_layout()\n",
    "# fig.set_size_inches(w=7,h=4)\n",
    "# fig_name = 'fig2_glassytime.pdf'\n",
    "plt.savefig(fig_name)"
   ]
  },
  {
   "cell_type": "markdown",
   "metadata": {},
   "source": [
    "## Movie/Animation frames"
   ]
  },
  {
   "cell_type": "code",
   "execution_count": null,
   "metadata": {},
   "outputs": [],
   "source": [
    "# fig = plt.figure(figsize=(2, 2))\n",
    "\n",
    "# ax1 = plt.subplot(1, 1, 1)\n",
    "\n",
    "n = 0\n",
    "\n",
    "for i in range(len(correlation_tapping)):\n",
    "    \n",
    "    ax1 = plt.subplot(1, 1, 1)\n",
    "\n",
    "    frame = correlation_tapping[i+100][1]\n",
    "    masked_map = ma.masked_array(frame, mask=mask_tapping)\n",
    "    # masked_map = -(np.log(masked_map)/c) \n",
    "\n",
    "    im1 = ax1.imshow(masked_map,vmin = .9,vmax = 1,cmap = 'gray')\n",
    "\n",
    "    cmap = plt.cm.gray\n",
    "    cmap.set_bad('white',1.)\n",
    "\n",
    "    divider = make_axes_locatable(ax1)\n",
    "    cax = divider.append_axes('right', size='5%', pad=0.05)\n",
    "    fig.colorbar(im1, cax=cax, orientation='vertical')\n",
    "    cax.set_title('Correlation (G)',fontsize = 8)\n",
    "    ax1.annotate(\"# of taps \" + str(n), xy=(5, 5), xytext=(120, 20),fontsize = 8)\n",
    "    ax1.set_xticks([]);\n",
    "    ax1.set_yticks([]);\n",
    "\n",
    "    plt.savefig(\"test\" + str(n+100) +\".png\", format=\"PNG\")\n",
    "    plt.clf()\n",
    "    n += 1"
   ]
  },
  {
   "cell_type": "markdown",
   "metadata": {},
   "source": [
    "# Loading Temperature/Humidity sensor readout"
   ]
  },
  {
   "cell_type": "code",
   "execution_count": null,
   "metadata": {},
   "outputs": [],
   "source": [
    "import pandas as pd\n",
    "\n",
    "\n",
    "environment = pd.read_csv('/home/ndeshpande/Desktop/Hayden_Feb_01_05_2020.txt',skiprows=1, sep=',', usecols = range(0,5), names = ['id', 'time','celsius','humidity','dew point'])\n",
    "environment = environment.values.tolist()\n",
    "\n",
    "a = len(environment)\n",
    "\n",
    "time = []\n",
    "humidity = []\n",
    "temperature = []\n",
    "dew_point = []\n",
    "\n",
    "for i in range(a):\n",
    "    time.append(environment[i][1])\n",
    "    temperature.append(environment[i][2])\n",
    "    humidity.append(environment[i][3])\n",
    "    dew_point.append(environment[i][4])"
   ]
  },
  {
   "cell_type": "code",
   "execution_count": null,
   "metadata": {},
   "outputs": [],
   "source": [
    "# Create some mock data\n",
    "\n",
    "time_sensor = np.arange(1,5820,5)\n",
    "time_sensor = time_sensor/60/24\n",
    "\n",
    "fig, ax1 = plt.subplots()\n",
    "\n",
    "ax1.set_xlabel('time (days)')\n",
    "ax1.set_ylabel('temperature(C)', color='r')\n",
    "ax1.plot(time_sensor,temperature, color='r')\n",
    "ax1.tick_params(axis='y', labelcolor='r')\n",
    "\n",
    "ax2 = ax1.twinx()  # instantiate a second axes that shares the same x-axis\n",
    "\n",
    "ax2.set_ylabel('% relative humidity', color='b')  # we already handled the x-label with ax1\n",
    "ax2.plot(time_sensor,humidity, color='b')\n",
    "ax2.tick_params(axis='y', labelcolor='b')\n",
    "\n",
    "fig.tight_layout()  # otherwise the right y-label is slightly clipped\n",
    "\n",
    "plt.savefig('temp_humidty.png')"
   ]
  },
  {
   "cell_type": "code",
   "execution_count": null,
   "metadata": {},
   "outputs": [],
   "source": [
    "fig = plt.figure(figsize=(4, 4))\n",
    "\n",
    "start_times = (81,81,81,81,82,83,85,89,98,115,149,217,354)\n",
    "\n",
    "time_sensor = np.arange(1,1670,5)\n",
    "time_sensor = time_sensor/60\n",
    "\n",
    "plt.plot(time_sensor,humidity[81:415],linewidth = 2)\n",
    "plt.xlabel('time')\n",
    "plt.ylabel('% relative humidity')\n",
    "plt.xlabel('time (hours)')\n",
    "\n",
    "plt.savefig('temp_humidty_day1.png')"
   ]
  }
 ],
 "metadata": {
  "kernelspec": {
   "display_name": "Python 3",
   "language": "python",
   "name": "python3"
  },
  "language_info": {
   "codemirror_mode": {
    "name": "ipython",
    "version": 3
   },
   "file_extension": ".py",
   "mimetype": "text/x-python",
   "name": "python",
   "nbconvert_exporter": "python",
   "pygments_lexer": "ipython3",
   "version": "3.8.3"
  },
  "latex_envs": {
   "LaTeX_envs_menu_present": true,
   "autoclose": false,
   "autocomplete": true,
   "bibliofile": "biblio.bib",
   "cite_by": "apalike",
   "current_citInitial": 1,
   "eqLabelWithNumbers": true,
   "eqNumInitial": 1,
   "hotkeys": {
    "equation": "Ctrl-E",
    "itemize": "Ctrl-I"
   },
   "labels_anchors": false,
   "latex_user_defs": false,
   "report_style_numbering": false,
   "user_envs_cfg": false
  },
  "toc": {
   "base_numbering": 1,
   "nav_menu": {},
   "number_sections": true,
   "sideBar": true,
   "skip_h1_title": false,
   "title_cell": "Table of Contents",
   "title_sidebar": "Contents",
   "toc_cell": false,
   "toc_position": {
    "height": "1054.53px",
    "left": "30px",
    "top": "154.4px",
    "width": "322.567px"
   },
   "toc_section_display": true,
   "toc_window_display": true
  },
  "varInspector": {
   "cols": {
    "lenName": 16,
    "lenType": 16,
    "lenVar": 40
   },
   "kernels_config": {
    "python": {
     "delete_cmd_postfix": "",
     "delete_cmd_prefix": "del ",
     "library": "var_list.py",
     "varRefreshCmd": "print(var_dic_list())"
    },
    "r": {
     "delete_cmd_postfix": ") ",
     "delete_cmd_prefix": "rm(",
     "library": "var_list.r",
     "varRefreshCmd": "cat(var_dic_list()) "
    }
   },
   "types_to_exclude": [
    "module",
    "function",
    "builtin_function_or_method",
    "instance",
    "_Feature"
   ],
   "window_display": false
  }
 },
 "nbformat": 4,
 "nbformat_minor": 2
}
